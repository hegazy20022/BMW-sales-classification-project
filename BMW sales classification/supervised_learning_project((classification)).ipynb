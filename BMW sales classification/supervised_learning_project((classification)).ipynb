{
  "cells": [
    {
      "cell_type": "code",
      "execution_count": 1,
      "id": "b73e906c-dc5e-4c07-9b1d-ddc0c0f343dd",
      "metadata": {
        "colab": {
          "base_uri": "https://localhost:8080/",
          "height": 71
        },
        "id": "b73e906c-dc5e-4c07-9b1d-ddc0c0f343dd",
        "outputId": "a3fa5b97-5b87-4cf9-885a-5d102fce5a2f"
      },
      "outputs": [
        {
          "output_type": "display_data",
          "data": {
            "text/plain": [
              "<IPython.core.display.HTML object>"
            ],
            "text/html": [
              "\n",
              "     <input type=\"file\" id=\"files-2f568b70-14b7-4b37-872e-3e30375bcc2c\" name=\"files[]\" multiple disabled\n",
              "        style=\"border:none\" />\n",
              "     <output id=\"result-2f568b70-14b7-4b37-872e-3e30375bcc2c\">\n",
              "      Upload widget is only available when the cell has been executed in the\n",
              "      current browser session. Please rerun this cell to enable.\n",
              "      </output>\n",
              "      <script>// Copyright 2017 Google LLC\n",
              "//\n",
              "// Licensed under the Apache License, Version 2.0 (the \"License\");\n",
              "// you may not use this file except in compliance with the License.\n",
              "// You may obtain a copy of the License at\n",
              "//\n",
              "//      http://www.apache.org/licenses/LICENSE-2.0\n",
              "//\n",
              "// Unless required by applicable law or agreed to in writing, software\n",
              "// distributed under the License is distributed on an \"AS IS\" BASIS,\n",
              "// WITHOUT WARRANTIES OR CONDITIONS OF ANY KIND, either express or implied.\n",
              "// See the License for the specific language governing permissions and\n",
              "// limitations under the License.\n",
              "\n",
              "/**\n",
              " * @fileoverview Helpers for google.colab Python module.\n",
              " */\n",
              "(function(scope) {\n",
              "function span(text, styleAttributes = {}) {\n",
              "  const element = document.createElement('span');\n",
              "  element.textContent = text;\n",
              "  for (const key of Object.keys(styleAttributes)) {\n",
              "    element.style[key] = styleAttributes[key];\n",
              "  }\n",
              "  return element;\n",
              "}\n",
              "\n",
              "// Max number of bytes which will be uploaded at a time.\n",
              "const MAX_PAYLOAD_SIZE = 100 * 1024;\n",
              "\n",
              "function _uploadFiles(inputId, outputId) {\n",
              "  const steps = uploadFilesStep(inputId, outputId);\n",
              "  const outputElement = document.getElementById(outputId);\n",
              "  // Cache steps on the outputElement to make it available for the next call\n",
              "  // to uploadFilesContinue from Python.\n",
              "  outputElement.steps = steps;\n",
              "\n",
              "  return _uploadFilesContinue(outputId);\n",
              "}\n",
              "\n",
              "// This is roughly an async generator (not supported in the browser yet),\n",
              "// where there are multiple asynchronous steps and the Python side is going\n",
              "// to poll for completion of each step.\n",
              "// This uses a Promise to block the python side on completion of each step,\n",
              "// then passes the result of the previous step as the input to the next step.\n",
              "function _uploadFilesContinue(outputId) {\n",
              "  const outputElement = document.getElementById(outputId);\n",
              "  const steps = outputElement.steps;\n",
              "\n",
              "  const next = steps.next(outputElement.lastPromiseValue);\n",
              "  return Promise.resolve(next.value.promise).then((value) => {\n",
              "    // Cache the last promise value to make it available to the next\n",
              "    // step of the generator.\n",
              "    outputElement.lastPromiseValue = value;\n",
              "    return next.value.response;\n",
              "  });\n",
              "}\n",
              "\n",
              "/**\n",
              " * Generator function which is called between each async step of the upload\n",
              " * process.\n",
              " * @param {string} inputId Element ID of the input file picker element.\n",
              " * @param {string} outputId Element ID of the output display.\n",
              " * @return {!Iterable<!Object>} Iterable of next steps.\n",
              " */\n",
              "function* uploadFilesStep(inputId, outputId) {\n",
              "  const inputElement = document.getElementById(inputId);\n",
              "  inputElement.disabled = false;\n",
              "\n",
              "  const outputElement = document.getElementById(outputId);\n",
              "  outputElement.innerHTML = '';\n",
              "\n",
              "  const pickedPromise = new Promise((resolve) => {\n",
              "    inputElement.addEventListener('change', (e) => {\n",
              "      resolve(e.target.files);\n",
              "    });\n",
              "  });\n",
              "\n",
              "  const cancel = document.createElement('button');\n",
              "  inputElement.parentElement.appendChild(cancel);\n",
              "  cancel.textContent = 'Cancel upload';\n",
              "  const cancelPromise = new Promise((resolve) => {\n",
              "    cancel.onclick = () => {\n",
              "      resolve(null);\n",
              "    };\n",
              "  });\n",
              "\n",
              "  // Wait for the user to pick the files.\n",
              "  const files = yield {\n",
              "    promise: Promise.race([pickedPromise, cancelPromise]),\n",
              "    response: {\n",
              "      action: 'starting',\n",
              "    }\n",
              "  };\n",
              "\n",
              "  cancel.remove();\n",
              "\n",
              "  // Disable the input element since further picks are not allowed.\n",
              "  inputElement.disabled = true;\n",
              "\n",
              "  if (!files) {\n",
              "    return {\n",
              "      response: {\n",
              "        action: 'complete',\n",
              "      }\n",
              "    };\n",
              "  }\n",
              "\n",
              "  for (const file of files) {\n",
              "    const li = document.createElement('li');\n",
              "    li.append(span(file.name, {fontWeight: 'bold'}));\n",
              "    li.append(span(\n",
              "        `(${file.type || 'n/a'}) - ${file.size} bytes, ` +\n",
              "        `last modified: ${\n",
              "            file.lastModifiedDate ? file.lastModifiedDate.toLocaleDateString() :\n",
              "                                    'n/a'} - `));\n",
              "    const percent = span('0% done');\n",
              "    li.appendChild(percent);\n",
              "\n",
              "    outputElement.appendChild(li);\n",
              "\n",
              "    const fileDataPromise = new Promise((resolve) => {\n",
              "      const reader = new FileReader();\n",
              "      reader.onload = (e) => {\n",
              "        resolve(e.target.result);\n",
              "      };\n",
              "      reader.readAsArrayBuffer(file);\n",
              "    });\n",
              "    // Wait for the data to be ready.\n",
              "    let fileData = yield {\n",
              "      promise: fileDataPromise,\n",
              "      response: {\n",
              "        action: 'continue',\n",
              "      }\n",
              "    };\n",
              "\n",
              "    // Use a chunked sending to avoid message size limits. See b/62115660.\n",
              "    let position = 0;\n",
              "    do {\n",
              "      const length = Math.min(fileData.byteLength - position, MAX_PAYLOAD_SIZE);\n",
              "      const chunk = new Uint8Array(fileData, position, length);\n",
              "      position += length;\n",
              "\n",
              "      const base64 = btoa(String.fromCharCode.apply(null, chunk));\n",
              "      yield {\n",
              "        response: {\n",
              "          action: 'append',\n",
              "          file: file.name,\n",
              "          data: base64,\n",
              "        },\n",
              "      };\n",
              "\n",
              "      let percentDone = fileData.byteLength === 0 ?\n",
              "          100 :\n",
              "          Math.round((position / fileData.byteLength) * 100);\n",
              "      percent.textContent = `${percentDone}% done`;\n",
              "\n",
              "    } while (position < fileData.byteLength);\n",
              "  }\n",
              "\n",
              "  // All done.\n",
              "  yield {\n",
              "    response: {\n",
              "      action: 'complete',\n",
              "    }\n",
              "  };\n",
              "}\n",
              "\n",
              "scope.google = scope.google || {};\n",
              "scope.google.colab = scope.google.colab || {};\n",
              "scope.google.colab._files = {\n",
              "  _uploadFiles,\n",
              "  _uploadFilesContinue,\n",
              "};\n",
              "})(self);\n",
              "</script> "
            ]
          },
          "metadata": {}
        },
        {
          "output_type": "stream",
          "name": "stdout",
          "text": [
            "Saving BMW_Car_Sales_Classification.csv to BMW_Car_Sales_Classification.csv\n"
          ]
        }
      ],
      "source": [
        "import pandas as pd\n",
        "import numpy as np\n",
        "import matplotlib.pyplot as plt\n",
        "import seaborn as sns\n",
        "from sklearn.preprocessing import LabelEncoder,OneHotEncoder,MinMaxScaler,StandardScaler\n",
        "from sklearn.compose import ColumnTransformer\n",
        "from sklearn.pipeline import Pipeline\n",
        "from sklearn.inspection import permutation_importance\n",
        "from tensorflow.keras.models import Sequential\n",
        "from tensorflow.keras.layers import Dense, Dropout\n",
        "from tensorflow.keras.callbacks import EarlyStopping\n",
        "from tensorflow.keras.regularizers import l2\n",
        "from sklearn.model_selection import train_test_split,StratifiedKFold,cross_val_score\n",
        "from sklearn.metrics import accuracy_score, precision_score, recall_score, f1_score,confusion_matrix,classification_report, ConfusionMatrixDisplay,roc_curve, roc_auc_score, RocCurveDisplay, auc\n",
        "from sklearn.svm import SVC\n",
        "from sklearn.naive_bayes import GaussianNB,BernoulliNB,MultinomialNB\n",
        "from sklearn.ensemble import RandomForestClassifier,ExtraTreesClassifier, BaggingClassifier\n",
        "from xgboost import XGBClassifier\n",
        "from sklearn.tree import DecisionTreeClassifier\n",
        "from sklearn.linear_model import LogisticRegression\n",
        "from sklearn.neighbors import KNeighborsClassifier\n",
        "from google.colab import files\n",
        "uploaded = files.upload()\n",
        "df = pd.read_csv(\"BMW_Car_Sales_Classification.csv\")\n",
        "%matplotlib inline\n"
      ]
    },
    {
      "cell_type": "markdown",
      "id": "w6knrS3S5aNl",
      "metadata": {
        "id": "w6knrS3S5aNl"
      },
      "source": [
        "Importing Libraries"
      ]
    },
    {
      "cell_type": "code",
      "execution_count": 2,
      "id": "-giKWkqXlqzh",
      "metadata": {
        "colab": {
          "base_uri": "https://localhost:8080/",
          "height": 178
        },
        "id": "-giKWkqXlqzh",
        "outputId": "14c30ad6-e245-48b5-f6d1-7d0865dc9f56"
      },
      "outputs": [
        {
          "output_type": "execute_result",
          "data": {
            "text/plain": [
              "Sales_Classification\n",
              "Low     34754\n",
              "High    15246\n",
              "Name: count, dtype: int64"
            ],
            "text/html": [
              "<div>\n",
              "<style scoped>\n",
              "    .dataframe tbody tr th:only-of-type {\n",
              "        vertical-align: middle;\n",
              "    }\n",
              "\n",
              "    .dataframe tbody tr th {\n",
              "        vertical-align: top;\n",
              "    }\n",
              "\n",
              "    .dataframe thead th {\n",
              "        text-align: right;\n",
              "    }\n",
              "</style>\n",
              "<table border=\"1\" class=\"dataframe\">\n",
              "  <thead>\n",
              "    <tr style=\"text-align: right;\">\n",
              "      <th></th>\n",
              "      <th>count</th>\n",
              "    </tr>\n",
              "    <tr>\n",
              "      <th>Sales_Classification</th>\n",
              "      <th></th>\n",
              "    </tr>\n",
              "  </thead>\n",
              "  <tbody>\n",
              "    <tr>\n",
              "      <th>Low</th>\n",
              "      <td>34754</td>\n",
              "    </tr>\n",
              "    <tr>\n",
              "      <th>High</th>\n",
              "      <td>15246</td>\n",
              "    </tr>\n",
              "  </tbody>\n",
              "</table>\n",
              "</div><br><label><b>dtype:</b> int64</label>"
            ]
          },
          "metadata": {},
          "execution_count": 2
        }
      ],
      "source": [
        "df['Sales_Classification'].value_counts()"
      ]
    },
    {
      "cell_type": "code",
      "execution_count": 3,
      "id": "444rPrVqyVL5",
      "metadata": {
        "colab": {
          "base_uri": "https://localhost:8080/",
          "height": 559
        },
        "id": "444rPrVqyVL5",
        "outputId": "bbdb5fde-b9cd-4d49-d03c-2fcc70b5b2ed"
      },
      "outputs": [
        {
          "output_type": "stream",
          "name": "stdout",
          "text": [
            "Sales_Classification\n",
            "Low     34754\n",
            "High    15246\n",
            "Name: count, dtype: int64\n"
          ]
        },
        {
          "output_type": "display_data",
          "data": {
            "text/plain": [
              "<Figure size 640x480 with 1 Axes>"
            ],
            "image/png": "[encoded data removed]"
          },
          "metadata": {}
        }
      ],
      "source": [
        "target = 'Sales_Classification'\n",
        "counts = df[target].value_counts()\n",
        "print(counts)\n",
        "\n",
        "plt.figure()\n",
        "counts.plot(kind='bar')\n",
        "plt.title('distribution of sales_classification')\n",
        "plt.xlabel('class')\n",
        "plt.ylabel('count')\n",
        "plt.show()"
      ]
    },
    {
      "cell_type": "markdown",
      "id": "Mn28Kyf53Y3X",
      "metadata": {
        "id": "Mn28Kyf53Y3X"
      },
      "source": [
        "class low has 70% of target column\n",
        "class high has 30% of target column"
      ]
    },
    {
      "cell_type": "code",
      "execution_count": 4,
      "id": "50bb17fc-7ce6-4c6e-b036-3ea2967956b7",
      "metadata": {
        "colab": {
          "base_uri": "https://localhost:8080/"
        },
        "id": "50bb17fc-7ce6-4c6e-b036-3ea2967956b7",
        "outputId": "99114a92-b17c-494d-f00d-42b7d511964d",
        "scrolled": true
      },
      "outputs": [
        {
          "output_type": "stream",
          "name": "stdout",
          "text": [
            "<class 'pandas.core.frame.DataFrame'>\n",
            "RangeIndex: 50000 entries, 0 to 49999\n",
            "Data columns (total 11 columns):\n",
            " #   Column                Non-Null Count  Dtype  \n",
            "---  ------                --------------  -----  \n",
            " 0   Model                 50000 non-null  object \n",
            " 1   Year                  50000 non-null  int64  \n",
            " 2   Region                50000 non-null  object \n",
            " 3   Color                 50000 non-null  object \n",
            " 4   Fuel_Type             50000 non-null  object \n",
            " 5   Transmission          50000 non-null  object \n",
            " 6   Engine_Size_L         50000 non-null  float64\n",
            " 7   Mileage_KM            50000 non-null  int64  \n",
            " 8   Price_USD             50000 non-null  int64  \n",
            " 9   Sales_Volume          50000 non-null  int64  \n",
            " 10  Sales_Classification  50000 non-null  object \n",
            "dtypes: float64(1), int64(4), object(6)\n",
            "memory usage: 4.2+ MB\n"
          ]
        }
      ],
      "source": [
        "df.info()"
      ]
    },
    {
      "cell_type": "markdown",
      "id": "VI3KORKf4AqK",
      "metadata": {
        "id": "VI3KORKf4AqK"
      },
      "source": [
        "check data info and we have 6 columns to transform"
      ]
    },
    {
      "cell_type": "code",
      "execution_count": 5,
      "id": "2kM3UHAcOc2S",
      "metadata": {
        "colab": {
          "base_uri": "https://localhost:8080/"
        },
        "id": "2kM3UHAcOc2S",
        "outputId": "1d6008ee-6f2c-4d74-f4ee-99e5424a71dd"
      },
      "outputs": [
        {
          "output_type": "execute_result",
          "data": {
            "text/plain": [
              "(50000, 11)"
            ]
          },
          "metadata": {},
          "execution_count": 5
        }
      ],
      "source": [
        "df.shape"
      ]
    },
    {
      "cell_type": "code",
      "execution_count": 6,
      "id": "e53ecd9c-81a0-4050-9aa1-9125653049ea",
      "metadata": {
        "colab": {
          "base_uri": "https://localhost:8080/",
          "height": 206
        },
        "id": "e53ecd9c-81a0-4050-9aa1-9125653049ea",
        "outputId": "9b5458d1-aa5e-46c2-c3b8-301cefa34ef4"
      },
      "outputs": [
        {
          "output_type": "execute_result",
          "data": {
            "text/plain": [
              "      Model  Year         Region  Color Fuel_Type Transmission  Engine_Size_L  \\\n",
              "0  5 Series  2016           Asia    Red    Petrol       Manual            3.5   \n",
              "1        i8  2013  North America    Red    Hybrid    Automatic            1.6   \n",
              "2  5 Series  2022  North America   Blue    Petrol    Automatic            4.5   \n",
              "3        X3  2024    Middle East   Blue    Petrol    Automatic            1.7   \n",
              "4  7 Series  2020  South America  Black    Diesel       Manual            2.1   \n",
              "\n",
              "   Mileage_KM  Price_USD  Sales_Volume Sales_Classification  \n",
              "0      151748      98740          8300                 High  \n",
              "1      121671      79219          3428                  Low  \n",
              "2       10991     113265          6994                  Low  \n",
              "3       27255      60971          4047                  Low  \n",
              "4      122131      49898          3080                  Low  "
            ],
            "text/html": [
              "\n",
              "  <div id=\"df-2fb94dea-1a4e-4eca-96b1-c0b42e67e3f6\" class=\"colab-df-container\">\n",
              "    <div>\n",
              "<style scoped>\n",
              "    .dataframe tbody tr th:only-of-type {\n",
              "        vertical-align: middle;\n",
              "    }\n",
              "\n",
              "    .dataframe tbody tr th {\n",
              "        vertical-align: top;\n",
              "    }\n",
              "\n",
              "    .dataframe thead th {\n",
              "        text-align: right;\n",
              "    }\n",
              "</style>\n",
              "<table border=\"1\" class=\"dataframe\">\n",
              "  <thead>\n",
              "    <tr style=\"text-align: right;\">\n",
              "      <th></th>\n",
              "      <th>Model</th>\n",
              "      <th>Year</th>\n",
              "      <th>Region</th>\n",
              "      <th>Color</th>\n",
              "      <th>Fuel_Type</th>\n",
              "      <th>Transmission</th>\n",
              "      <th>Engine_Size_L</th>\n",
              "      <th>Mileage_KM</th>\n",
              "      <th>Price_USD</th>\n",
              "      <th>Sales_Volume</th>\n",
              "      <th>Sales_Classification</th>\n",
              "    </tr>\n",
              "  </thead>\n",
              "  <tbody>\n",
              "    <tr>\n",
              "      <th>0</th>\n",
              "      <td>5 Series</td>\n",
              "      <td>2016</td>\n",
              "      <td>Asia</td>\n",
              "      <td>Red</td>\n",
              "      <td>Petrol</td>\n",
              "      <td>Manual</td>\n",
              "      <td>3.5</td>\n",
              "      <td>151748</td>\n",
              "      <td>98740</td>\n",
              "      <td>8300</td>\n",
              "      <td>High</td>\n",
              "    </tr>\n",
              "    <tr>\n",
              "      <th>1</th>\n",
              "      <td>i8</td>\n",
              "      <td>2013</td>\n",
              "      <td>North America</td>\n",
              "      <td>Red</td>\n",
              "      <td>Hybrid</td>\n",
              "      <td>Automatic</td>\n",
              "      <td>1.6</td>\n",
              "      <td>121671</td>\n",
              "      <td>79219</td>\n",
              "      <td>3428</td>\n",
              "      <td>Low</td>\n",
              "    </tr>\n",
              "    <tr>\n",
              "      <th>2</th>\n",
              "      <td>5 Series</td>\n",
              "      <td>2022</td>\n",
              "      <td>North America</td>\n",
              "      <td>Blue</td>\n",
              "      <td>Petrol</td>\n",
              "      <td>Automatic</td>\n",
              "      <td>4.5</td>\n",
              "      <td>10991</td>\n",
              "      <td>113265</td>\n",
              "      <td>6994</td>\n",
              "      <td>Low</td>\n",
              "    </tr>\n",
              "    <tr>\n",
              "      <th>3</th>\n",
              "      <td>X3</td>\n",
              "      <td>2024</td>\n",
              "      <td>Middle East</td>\n",
              "      <td>Blue</td>\n",
              "      <td>Petrol</td>\n",
              "      <td>Automatic</td>\n",
              "      <td>1.7</td>\n",
              "      <td>27255</td>\n",
              "      <td>60971</td>\n",
              "      <td>4047</td>\n",
              "      <td>Low</td>\n",
              "    </tr>\n",
              "    <tr>\n",
              "      <th>4</th>\n",
              "      <td>7 Series</td>\n",
              "      <td>2020</td>\n",
              "      <td>South America</td>\n",
              "      <td>Black</td>\n",
              "      <td>Diesel</td>\n",
              "      <td>Manual</td>\n",
              "      <td>2.1</td>\n",
              "      <td>122131</td>\n",
              "      <td>49898</td>\n",
              "      <td>3080</td>\n",
              "      <td>Low</td>\n",
              "    </tr>\n",
              "  </tbody>\n",
              "</table>\n",
              "</div>\n",
              "    <div class=\"colab-df-buttons\">\n",
              "\n",
              "  <div class=\"colab-df-container\">\n",
              "    <button class=\"colab-df-convert\" onclick=\"convertToInteractive('df-2fb94dea-1a4e-4eca-96b1-c0b42e67e3f6')\"\n",
              "            title=\"Convert this dataframe to an interactive table.\"\n",
              "            style=\"display:none;\">\n",
              "\n",
              "  <svg xmlns=\"http://www.w3.org/2000/svg\" height=\"24px\" viewBox=\"0 -960 960 960\">\n",
              "    <path d=\"M120-120v-720h720v720H120Zm60-500h600v-160H180v160Zm220 220h160v-160H400v160Zm0 220h160v-160H400v160ZM180-400h160v-160H180v160Zm440 0h160v-160H620v160ZM180-180h160v-160H180v160Zm440 0h160v-160H620v160Z\"/>\n",
              "  </svg>\n",
              "    </button>\n",
              "\n",
              "  <style>\n",
              "    .colab-df-container {\n",
              "      display:flex;\n",
              "      gap: 12px;\n",
              "    }\n",
              "\n",
              "    .colab-df-convert {\n",
              "      background-color: #E8F0FE;\n",
              "      border: none;\n",
              "      border-radius: 50%;\n",
              "      cursor: pointer;\n",
              "      display: none;\n",
              "      fill: #1967D2;\n",
              "      height: 32px;\n",
              "      padding: 0 0 0 0;\n",
              "      width: 32px;\n",
              "    }\n",
              "\n",
              "    .colab-df-convert:hover {\n",
              "      background-color: #E2EBFA;\n",
              "      box-shadow: 0px 1px 2px rgba(60, 64, 67, 0.3), 0px 1px 3px 1px rgba(60, 64, 67, 0.15);\n",
              "      fill: #174EA6;\n",
              "    }\n",
              "\n",
              "    .colab-df-buttons div {\n",
              "      margin-bottom: 4px;\n",
              "    }\n",
              "\n",
              "    [theme=dark] .colab-df-convert {\n",
              "      background-color: #3B4455;\n",
              "      fill: #D2E3FC;\n",
              "    }\n",
              "\n",
              "    [theme=dark] .colab-df-convert:hover {\n",
              "      background-color: #434B5C;\n",
              "      box-shadow: 0px 1px 3px 1px rgba(0, 0, 0, 0.15);\n",
              "      filter: drop-shadow(0px 1px 2px rgba(0, 0, 0, 0.3));\n",
              "      fill: #FFFFFF;\n",
              "    }\n",
              "  </style>\n",
              "\n",
              "    <script>\n",
              "      const buttonEl =\n",
              "        document.querySelector('#df-2fb94dea-1a4e-4eca-96b1-c0b42e67e3f6 button.colab-df-convert');\n",
              "      buttonEl.style.display =\n",
              "        google.colab.kernel.accessAllowed ? 'block' : 'none';\n",
              "\n",
              "      async function convertToInteractive(key) {\n",
              "        const element = document.querySelector('#df-2fb94dea-1a4e-4eca-96b1-c0b42e67e3f6');\n",
              "        const dataTable =\n",
              "          await google.colab.kernel.invokeFunction('convertToInteractive',\n",
              "                                                    [key], {});\n",
              "        if (!dataTable) return;\n",
              "\n",
              "        const docLinkHtml = 'Like what you see? Visit the ' +\n",
              "          '<a target=\"_blank\" href=https://colab.research.google.com/notebooks/data_table.ipynb>data table notebook</a>'\n",
              "          + ' to learn more about interactive tables.';\n",
              "        element.innerHTML = '';\n",
              "        dataTable['output_type'] = 'display_data';\n",
              "        await google.colab.output.renderOutput(dataTable, element);\n",
              "        const docLink = document.createElement('div');\n",
              "        docLink.innerHTML = docLinkHtml;\n",
              "        element.appendChild(docLink);\n",
              "      }\n",
              "    </script>\n",
              "  </div>\n",
              "\n",
              "\n",
              "    <div id=\"df-545a392e-54fd-440c-891f-efef769b70cb\">\n",
              "      <button class=\"colab-df-quickchart\" onclick=\"quickchart('df-545a392e-54fd-440c-891f-efef769b70cb')\"\n",
              "                title=\"Suggest charts\"\n",
              "                style=\"display:none;\">\n",
              "\n",
              "<svg xmlns=\"http://www.w3.org/2000/svg\" height=\"24px\"viewBox=\"0 0 24 24\"\n",
              "     width=\"24px\">\n",
              "    <g>\n",
              "        <path d=\"M19 3H5c-1.1 0-2 .9-2 2v14c0 1.1.9 2 2 2h14c1.1 0 2-.9 2-2V5c0-1.1-.9-2-2-2zM9 17H7v-7h2v7zm4 0h-2V7h2v10zm4 0h-2v-4h2v4z\"/>\n",
              "    </g>\n",
              "</svg>\n",
              "      </button>\n",
              "\n",
              "<style>\n",
              "  .colab-df-quickchart {\n",
              "      --bg-color: #E8F0FE;\n",
              "      --fill-color: #1967D2;\n",
              "      --hover-bg-color: #E2EBFA;\n",
              "      --hover-fill-color: #174EA6;\n",
              "      --disabled-fill-color: #AAA;\n",
              "      --disabled-bg-color: #DDD;\n",
              "  }\n",
              "\n",
              "  [theme=dark] .colab-df-quickchart {\n",
              "      --bg-color: #3B4455;\n",
              "      --fill-color: #D2E3FC;\n",
              "      --hover-bg-color: #434B5C;\n",
              "      --hover-fill-color: #FFFFFF;\n",
              "      --disabled-bg-color: #3B4455;\n",
              "      --disabled-fill-color: #666;\n",
              "  }\n",
              "\n",
              "  .colab-df-quickchart {\n",
              "    background-color: var(--bg-color);\n",
              "    border: none;\n",
              "    border-radius: 50%;\n",
              "    cursor: pointer;\n",
              "    display: none;\n",
              "    fill: var(--fill-color);\n",
              "    height: 32px;\n",
              "    padding: 0;\n",
              "    width: 32px;\n",
              "  }\n",
              "\n",
              "  .colab-df-quickchart:hover {\n",
              "    background-color: var(--hover-bg-color);\n",
              "    box-shadow: 0 1px 2px rgba(60, 64, 67, 0.3), 0 1px 3px 1px rgba(60, 64, 67, 0.15);\n",
              "    fill: var(--button-hover-fill-color);\n",
              "  }\n",
              "\n",
              "  .colab-df-quickchart-complete:disabled,\n",
              "  .colab-df-quickchart-complete:disabled:hover {\n",
              "    background-color: var(--disabled-bg-color);\n",
              "    fill: var(--disabled-fill-color);\n",
              "    box-shadow: none;\n",
              "  }\n",
              "\n",
              "  .colab-df-spinner {\n",
              "    border: 2px solid var(--fill-color);\n",
              "    border-color: transparent;\n",
              "    border-bottom-color: var(--fill-color);\n",
              "    animation:\n",
              "      spin 1s steps(1) infinite;\n",
              "  }\n",
              "\n",
              "  @keyframes spin {\n",
              "    0% {\n",
              "      border-color: transparent;\n",
              "      border-bottom-color: var(--fill-color);\n",
              "      border-left-color: var(--fill-color);\n",
              "    }\n",
              "    20% {\n",
              "      border-color: transparent;\n",
              "      border-left-color: var(--fill-color);\n",
              "      border-top-color: var(--fill-color);\n",
              "    }\n",
              "    30% {\n",
              "      border-color: transparent;\n",
              "      border-left-color: var(--fill-color);\n",
              "      border-top-color: var(--fill-color);\n",
              "      border-right-color: var(--fill-color);\n",
              "    }\n",
              "    40% {\n",
              "      border-color: transparent;\n",
              "      border-right-color: var(--fill-color);\n",
              "      border-top-color: var(--fill-color);\n",
              "    }\n",
              "    60% {\n",
              "      border-color: transparent;\n",
              "      border-right-color: var(--fill-color);\n",
              "    }\n",
              "    80% {\n",
              "      border-color: transparent;\n",
              "      border-right-color: var(--fill-color);\n",
              "      border-bottom-color: var(--fill-color);\n",
              "    }\n",
              "    90% {\n",
              "      border-color: transparent;\n",
              "      border-bottom-color: var(--fill-color);\n",
              "    }\n",
              "  }\n",
              "</style>\n",
              "\n",
              "      <script>\n",
              "        async function quickchart(key) {\n",
              "          const quickchartButtonEl =\n",
              "            document.querySelector('#' + key + ' button');\n",
              "          quickchartButtonEl.disabled = true;  // To prevent multiple clicks.\n",
              "          quickchartButtonEl.classList.add('colab-df-spinner');\n",
              "          try {\n",
              "            const charts = await google.colab.kernel.invokeFunction(\n",
              "                'suggestCharts', [key], {});\n",
              "          } catch (error) {\n",
              "            console.error('Error during call to suggestCharts:', error);\n",
              "          }\n",
              "          quickchartButtonEl.classList.remove('colab-df-spinner');\n",
              "          quickchartButtonEl.classList.add('colab-df-quickchart-complete');\n",
              "        }\n",
              "        (() => {\n",
              "          let quickchartButtonEl =\n",
              "            document.querySelector('#df-545a392e-54fd-440c-891f-efef769b70cb button');\n",
              "          quickchartButtonEl.style.display =\n",
              "            google.colab.kernel.accessAllowed ? 'block' : 'none';\n",
              "        })();\n",
              "      </script>\n",
              "    </div>\n",
              "\n",
              "    </div>\n",
              "  </div>\n"
            ],
            "application/vnd.google.colaboratory.intrinsic+json": {
              "type": "dataframe",
              "variable_name": "df",
              "summary": "{\n  \"name\": \"df\",\n  \"rows\": 50000,\n  \"fields\": [\n    {\n      \"column\": \"Model\",\n      \"properties\": {\n        \"dtype\": \"category\",\n        \"num_unique_values\": 11,\n        \"samples\": [\n          \"3 Series\",\n          \"5 Series\",\n          \"i3\"\n        ],\n        \"semantic_type\": \"\",\n        \"description\": \"\"\n      }\n    },\n    {\n      \"column\": \"Year\",\n      \"properties\": {\n        \"dtype\": \"number\",\n        \"std\": 4,\n        \"min\": 2010,\n        \"max\": 2024,\n        \"num_unique_values\": 15,\n        \"samples\": [\n          2015,\n          2021,\n          2016\n        ],\n        \"semantic_type\": \"\",\n        \"description\": \"\"\n      }\n    },\n    {\n      \"column\": \"Region\",\n      \"properties\": {\n        \"dtype\": \"category\",\n        \"num_unique_values\": 6,\n        \"samples\": [\n          \"Asia\",\n          \"North America\",\n          \"Africa\"\n        ],\n        \"semantic_type\": \"\",\n        \"description\": \"\"\n      }\n    },\n    {\n      \"column\": \"Color\",\n      \"properties\": {\n        \"dtype\": \"category\",\n        \"num_unique_values\": 6,\n        \"samples\": [\n          \"Red\",\n          \"Blue\",\n          \"Grey\"\n        ],\n        \"semantic_type\": \"\",\n        \"description\": \"\"\n      }\n    },\n    {\n      \"column\": \"Fuel_Type\",\n      \"properties\": {\n        \"dtype\": \"category\",\n        \"num_unique_values\": 4,\n        \"samples\": [\n          \"Hybrid\",\n          \"Electric\",\n          \"Petrol\"\n        ],\n        \"semantic_type\": \"\",\n        \"description\": \"\"\n      }\n    },\n    {\n      \"column\": \"Transmission\",\n      \"properties\": {\n        \"dtype\": \"category\",\n        \"num_unique_values\": 2,\n        \"samples\": [\n          \"Automatic\",\n          \"Manual\"\n        ],\n        \"semantic_type\": \"\",\n        \"description\": \"\"\n      }\n    },\n    {\n      \"column\": \"Engine_Size_L\",\n      \"properties\": {\n        \"dtype\": \"number\",\n        \"std\": 1.0090783975412023,\n        \"min\": 1.5,\n        \"max\": 5.0,\n        \"num_unique_values\": 36,\n        \"samples\": [\n          2.9,\n          3.7\n        ],\n        \"semantic_type\": \"\",\n        \"description\": \"\"\n      }\n    },\n    {\n      \"column\": \"Mileage_KM\",\n      \"properties\": {\n        \"dtype\": \"number\",\n        \"std\": 57941,\n        \"min\": 3,\n        \"max\": 199996,\n        \"num_unique_values\": 44347,\n        \"samples\": [\n          186589,\n          76400\n        ],\n        \"semantic_type\": \"\",\n        \"description\": \"\"\n      }\n    },\n    {\n      \"column\": \"Price_USD\",\n      \"properties\": {\n        \"dtype\": \"number\",\n        \"std\": 25998,\n        \"min\": 30000,\n        \"max\": 119998,\n        \"num_unique_values\": 38246,\n        \"samples\": [\n          45242,\n          33160\n        ],\n        \"semantic_type\": \"\",\n        \"description\": \"\"\n      }\n    },\n    {\n      \"column\": \"Sales_Volume\",\n      \"properties\": {\n        \"dtype\": \"number\",\n        \"std\": 2856,\n        \"min\": 100,\n        \"max\": 9999,\n        \"num_unique_values\": 9845,\n        \"samples\": [\n          4422,\n          7272\n        ],\n        \"semantic_type\": \"\",\n        \"description\": \"\"\n      }\n    },\n    {\n      \"column\": \"Sales_Classification\",\n      \"properties\": {\n        \"dtype\": \"category\",\n        \"num_unique_values\": 2,\n        \"samples\": [\n          \"Low\",\n          \"High\"\n        ],\n        \"semantic_type\": \"\",\n        \"description\": \"\"\n      }\n    }\n  ]\n}"
            }
          },
          "metadata": {},
          "execution_count": 6
        }
      ],
      "source": [
        "df.head()"
      ]
    },
    {
      "cell_type": "markdown",
      "id": "BnuyIqC24QaL",
      "metadata": {
        "id": "BnuyIqC24QaL"
      },
      "source": [
        "seeing sampels from data"
      ]
    },
    {
      "cell_type": "code",
      "execution_count": 7,
      "id": "ff562613-b5f4-4c14-afc9-328952797755",
      "metadata": {
        "colab": {
          "base_uri": "https://localhost:8080/"
        },
        "id": "ff562613-b5f4-4c14-afc9-328952797755",
        "outputId": "0b10839e-503e-425c-c925-0bef0a89b47c"
      },
      "outputs": [
        {
          "output_type": "execute_result",
          "data": {
            "text/plain": [
              "array(['5 Series', 'i8', 'X3', '7 Series', 'M5', '3 Series', 'X1', 'M3',\n",
              "       'X5', 'i3', 'X6'], dtype=object)"
            ]
          },
          "metadata": {},
          "execution_count": 7
        }
      ],
      "source": [
        "df['Model'].unique()"
      ]
    },
    {
      "cell_type": "code",
      "execution_count": 8,
      "id": "0d3f59a7-2598-405e-81c8-91ac08aaf0d5",
      "metadata": {
        "colab": {
          "base_uri": "https://localhost:8080/"
        },
        "id": "0d3f59a7-2598-405e-81c8-91ac08aaf0d5",
        "outputId": "1d70e5b4-f5d9-4838-e790-20b2022f4821"
      },
      "outputs": [
        {
          "output_type": "execute_result",
          "data": {
            "text/plain": [
              "array(['Asia', 'North America', 'Middle East', 'South America', 'Europe',\n",
              "       'Africa'], dtype=object)"
            ]
          },
          "metadata": {},
          "execution_count": 8
        }
      ],
      "source": [
        "df['Region'].unique()"
      ]
    },
    {
      "cell_type": "code",
      "execution_count": 9,
      "id": "e5e2f401-2a89-453c-9a81-81109fcaa43d",
      "metadata": {
        "colab": {
          "base_uri": "https://localhost:8080/"
        },
        "id": "e5e2f401-2a89-453c-9a81-81109fcaa43d",
        "outputId": "51eb242a-a102-4183-d947-aa2b68d1f20f"
      },
      "outputs": [
        {
          "output_type": "execute_result",
          "data": {
            "text/plain": [
              "array(['Red', 'Blue', 'Black', 'Silver', 'White', 'Grey'], dtype=object)"
            ]
          },
          "metadata": {},
          "execution_count": 9
        }
      ],
      "source": [
        "df['Color'].unique()"
      ]
    },
    {
      "cell_type": "code",
      "execution_count": 10,
      "id": "54656c17-4ab6-4eb9-b017-663c9f342d0a",
      "metadata": {
        "colab": {
          "base_uri": "https://localhost:8080/"
        },
        "id": "54656c17-4ab6-4eb9-b017-663c9f342d0a",
        "outputId": "abf3d4da-690a-41c7-ae73-242e7dafce3e"
      },
      "outputs": [
        {
          "output_type": "execute_result",
          "data": {
            "text/plain": [
              "array(['Petrol', 'Hybrid', 'Diesel', 'Electric'], dtype=object)"
            ]
          },
          "metadata": {},
          "execution_count": 10
        }
      ],
      "source": [
        "df['Fuel_Type'].unique()"
      ]
    },
    {
      "cell_type": "markdown",
      "id": "zU1l5uyb4Y1k",
      "metadata": {
        "id": "zU1l5uyb4Y1k"
      },
      "source": [
        "check count unique values to know method we need for transforming"
      ]
    },
    {
      "cell_type": "code",
      "execution_count": 11,
      "id": "a95d32e8-b980-4e0d-8eb8-de6bdd4a2f7e",
      "metadata": {
        "colab": {
          "base_uri": "https://localhost:8080/",
          "height": 429
        },
        "id": "a95d32e8-b980-4e0d-8eb8-de6bdd4a2f7e",
        "outputId": "bcf26d37-0411-43ff-979b-2a768e1bb27d"
      },
      "outputs": [
        {
          "output_type": "execute_result",
          "data": {
            "text/plain": [
              "Model                   0\n",
              "Year                    0\n",
              "Region                  0\n",
              "Color                   0\n",
              "Fuel_Type               0\n",
              "Transmission            0\n",
              "Engine_Size_L           0\n",
              "Mileage_KM              0\n",
              "Price_USD               0\n",
              "Sales_Volume            0\n",
              "Sales_Classification    0\n",
              "dtype: int64"
            ],
            "text/html": [
              "<div>\n",
              "<style scoped>\n",
              "    .dataframe tbody tr th:only-of-type {\n",
              "        vertical-align: middle;\n",
              "    }\n",
              "\n",
              "    .dataframe tbody tr th {\n",
              "        vertical-align: top;\n",
              "    }\n",
              "\n",
              "    .dataframe thead th {\n",
              "        text-align: right;\n",
              "    }\n",
              "</style>\n",
              "<table border=\"1\" class=\"dataframe\">\n",
              "  <thead>\n",
              "    <tr style=\"text-align: right;\">\n",
              "      <th></th>\n",
              "      <th>0</th>\n",
              "    </tr>\n",
              "  </thead>\n",
              "  <tbody>\n",
              "    <tr>\n",
              "      <th>Model</th>\n",
              "      <td>0</td>\n",
              "    </tr>\n",
              "    <tr>\n",
              "      <th>Year</th>\n",
              "      <td>0</td>\n",
              "    </tr>\n",
              "    <tr>\n",
              "      <th>Region</th>\n",
              "      <td>0</td>\n",
              "    </tr>\n",
              "    <tr>\n",
              "      <th>Color</th>\n",
              "      <td>0</td>\n",
              "    </tr>\n",
              "    <tr>\n",
              "      <th>Fuel_Type</th>\n",
              "      <td>0</td>\n",
              "    </tr>\n",
              "    <tr>\n",
              "      <th>Transmission</th>\n",
              "      <td>0</td>\n",
              "    </tr>\n",
              "    <tr>\n",
              "      <th>Engine_Size_L</th>\n",
              "      <td>0</td>\n",
              "    </tr>\n",
              "    <tr>\n",
              "      <th>Mileage_KM</th>\n",
              "      <td>0</td>\n",
              "    </tr>\n",
              "    <tr>\n",
              "      <th>Price_USD</th>\n",
              "      <td>0</td>\n",
              "    </tr>\n",
              "    <tr>\n",
              "      <th>Sales_Volume</th>\n",
              "      <td>0</td>\n",
              "    </tr>\n",
              "    <tr>\n",
              "      <th>Sales_Classification</th>\n",
              "      <td>0</td>\n",
              "    </tr>\n",
              "  </tbody>\n",
              "</table>\n",
              "</div><br><label><b>dtype:</b> int64</label>"
            ]
          },
          "metadata": {},
          "execution_count": 11
        }
      ],
      "source": [
        "df.isna().sum()"
      ]
    },
    {
      "cell_type": "markdown",
      "id": "Ny7iJXQm4mfj",
      "metadata": {
        "id": "Ny7iJXQm4mfj"
      },
      "source": [
        "check missing values : no missing values"
      ]
    },
    {
      "cell_type": "code",
      "execution_count": 12,
      "id": "cb16c779-63fd-4b72-9f74-8397fdcbbec4",
      "metadata": {
        "colab": {
          "base_uri": "https://localhost:8080/"
        },
        "id": "cb16c779-63fd-4b72-9f74-8397fdcbbec4",
        "outputId": "f033cb86-9243-4ace-e84b-1e15b51dba0f"
      },
      "outputs": [
        {
          "output_type": "stream",
          "name": "stdout",
          "text": [
            "outliers in all columns\n",
            "Year: 0\n",
            "Engine_Size_L: 0\n",
            "Mileage_KM: 0\n",
            "Price_USD: 0\n",
            "Sales_Volume: 0\n",
            "\n",
            " total outliers = 0\n"
          ]
        }
      ],
      "source": [
        "def count_outliers_per_column(df):\n",
        "    outlier_counts = {}\n",
        "    total_outliers = 0\n",
        "\n",
        "    numeric_cols = df.select_dtypes(include='number').columns\n",
        "\n",
        "    for column in numeric_cols:\n",
        "        Q1 = df[column].quantile(0.25)\n",
        "        Q3 = df[column].quantile(0.75)\n",
        "        IQR = Q3 - Q1\n",
        "        lower_bound = Q1 - 1.5 * IQR\n",
        "        upper_bound = Q3 + 1.5 * IQR\n",
        "\n",
        "        outliers = df[(df[column] < lower_bound) | (df[column] > upper_bound)]\n",
        "        count = outliers.shape[0]\n",
        "\n",
        "        outlier_counts[column] = count\n",
        "        total_outliers += count\n",
        "\n",
        "    return outlier_counts, total_outliers\n",
        "\n",
        "outliers_dict, total = count_outliers_per_column(df)\n",
        "\n",
        "\n",
        "print(\"outliers in all columns\")\n",
        "for col, count in outliers_dict.items():\n",
        "    print(f\"{col}: {count}\")\n",
        "\n",
        "print(f\"\\n total outliers = {total}\")"
      ]
    },
    {
      "cell_type": "markdown",
      "id": "yT83_asH4vba",
      "metadata": {
        "id": "yT83_asH4vba"
      },
      "source": [
        "check outliers by iqr method : no outliers"
      ]
    },
    {
      "cell_type": "code",
      "execution_count": 13,
      "id": "bogkrQFQJekO",
      "metadata": {
        "colab": {
          "base_uri": "https://localhost:8080/",
          "height": 607
        },
        "id": "bogkrQFQJekO",
        "outputId": "7795fc50-509b-4f06-ee23-d89866bafb1b"
      },
      "outputs": [
        {
          "output_type": "display_data",
          "data": {
            "text/plain": [
              "<Figure size 1000x600 with 2 Axes>"
            ],
            "image/png": "[encoded data removed]"
          },
          "metadata": {}
        }
      ],
      "source": [
        "target_col = 'Sales_Classification'\n",
        "\n",
        "grouped = df.groupby(target_col).mean(numeric_only=True)\n",
        "\n",
        "plt.figure(figsize=(10, 6))\n",
        "sns.heatmap(grouped.T, annot=True, cmap='coolwarm')\n",
        "plt.title(f'feature means by category: {target_col}')\n",
        "plt.ylabel('features')\n",
        "plt.xlabel('category')\n",
        "plt.tight_layout()\n",
        "plt.show()"
      ]
    },
    {
      "cell_type": "markdown",
      "id": "psn7eVL9Mnms",
      "metadata": {
        "id": "psn7eVL9Mnms"
      },
      "source": [
        "we applied groupby to calculate the mean of each numerical feature for each category in our target column then we plotted a heatmap and it was clear that there is a strong correlation between the sales volume column and the target while the other features had a weaker impac"
      ]
    },
    {
      "cell_type": "markdown",
      "id": "RyvxgJBo5_Ar",
      "metadata": {
        "id": "RyvxgJBo5_Ar"
      },
      "source": [
        "preprocessing steps\n",
        "we applied preprocessing on x train and used the same transformations on x test to avoid data leakage"
      ]
    },
    {
      "cell_type": "code",
      "execution_count": 14,
      "id": "5683fe5d-43b0-42e6-b547-6819d1fdb272",
      "metadata": {
        "id": "5683fe5d-43b0-42e6-b547-6819d1fdb272"
      },
      "outputs": [],
      "source": [
        "X = df.drop('Sales_Classification', axis=1)\n",
        "y = df['Sales_Classification']"
      ]
    },
    {
      "cell_type": "markdown",
      "id": "C-q72cJP44dM",
      "metadata": {
        "id": "C-q72cJP44dM"
      },
      "source": [
        "set x (features),set y (target )"
      ]
    },
    {
      "cell_type": "code",
      "execution_count": 15,
      "id": "qtzU3pixKQJZ",
      "metadata": {
        "id": "qtzU3pixKQJZ"
      },
      "outputs": [],
      "source": [
        "x_train, x_test, y_train, y_test = train_test_split(X, y, test_size=0.2, stratify=y, random_state=42)"
      ]
    },
    {
      "cell_type": "markdown",
      "id": "S-JmussZ58kF",
      "metadata": {
        "id": "S-JmussZ58kF"
      },
      "source": [
        "we used stratified split to maintain the distribution ratio in our target variable"
      ]
    },
    {
      "cell_type": "code",
      "execution_count": 16,
      "id": "aba58bad-6540-4163-b9f0-3fb7739bb327",
      "metadata": {
        "id": "aba58bad-6540-4163-b9f0-3fb7739bb327"
      },
      "outputs": [],
      "source": [
        "le = LabelEncoder()\n",
        "y_train_encoded = le.fit_transform(y_train)\n",
        "y_test_encoded = le.transform(y_test)"
      ]
    },
    {
      "cell_type": "markdown",
      "id": "ZmTV4lYd6xJI",
      "metadata": {
        "id": "ZmTV4lYd6xJI"
      },
      "source": [
        "we used label encoding on the target column because there was a pattern in the labels"
      ]
    },
    {
      "cell_type": "code",
      "execution_count": 17,
      "id": "fa19ed93-3021-47b0-b6e1-4fa9669495c4",
      "metadata": {
        "id": "fa19ed93-3021-47b0-b6e1-4fa9669495c4"
      },
      "outputs": [],
      "source": [
        "scaled_cols = ['Mileage_KM','Price_USD','Sales_Volume']\n",
        "categorical_cols = ['Fuel_Type','Color','Region','Model','Transmission']"
      ]
    },
    {
      "cell_type": "code",
      "execution_count": 18,
      "id": "48004284-66d1-41cf-a60e-a8c813ac6476",
      "metadata": {
        "id": "48004284-66d1-41cf-a60e-a8c813ac6476"
      },
      "outputs": [],
      "source": [
        "preprocessor= ColumnTransformer([\n",
        "    ('minmax', MinMaxScaler(), scaled_cols),\n",
        "    ('onehot', OneHotEncoder(sparse_output = False,handle_unknown='ignore')\n",
        ", categorical_cols)\n",
        "])\n",
        "\n",
        "x_train_processed = preprocessor.fit_transform(x_train)\n",
        "x_test_processed = preprocessor.transform(x_test)"
      ]
    },
    {
      "cell_type": "markdown",
      "id": "kJVIkYMl7I-c",
      "metadata": {
        "id": "kJVIkYMl7I-c"
      },
      "source": [
        "uesing min_max and one hot for transform columns\n",
        " sparse\\_output false means the output will be a regular dense array\n",
        " handle\\_unknown ignore allows the encoder to skip unknown categories without crashing\n",
        " we performed the preprocessing using columntransformer to organize the steps inside it and to include it later in the pipeline"
      ]
    },
    {
      "cell_type": "code",
      "execution_count": 19,
      "id": "8sZlmEy6IyMb",
      "metadata": {
        "colab": {
          "base_uri": "https://localhost:8080/"
        },
        "id": "8sZlmEy6IyMb",
        "outputId": "22187f1d-a17f-486c-8a54-ffe14293ab8b"
      },
      "outputs": [
        {
          "output_type": "stream",
          "name": "stdout",
          "text": [
            "<class 'pandas.core.frame.DataFrame'>\n",
            "RangeIndex: 40000 entries, 0 to 39999\n",
            "Data columns (total 32 columns):\n",
            " #   Column                  Non-Null Count  Dtype  \n",
            "---  ------                  --------------  -----  \n",
            " 0   Mileage_KM              40000 non-null  float64\n",
            " 1   Price_USD               40000 non-null  float64\n",
            " 2   Sales_Volume            40000 non-null  float64\n",
            " 3   Fuel_Type_Diesel        40000 non-null  float64\n",
            " 4   Fuel_Type_Electric      40000 non-null  float64\n",
            " 5   Fuel_Type_Hybrid        40000 non-null  float64\n",
            " 6   Fuel_Type_Petrol        40000 non-null  float64\n",
            " 7   Color_Black             40000 non-null  float64\n",
            " 8   Color_Blue              40000 non-null  float64\n",
            " 9   Color_Grey              40000 non-null  float64\n",
            " 10  Color_Red               40000 non-null  float64\n",
            " 11  Color_Silver            40000 non-null  float64\n",
            " 12  Color_White             40000 non-null  float64\n",
            " 13  Region_Africa           40000 non-null  float64\n",
            " 14  Region_Asia             40000 non-null  float64\n",
            " 15  Region_Europe           40000 non-null  float64\n",
            " 16  Region_Middle East      40000 non-null  float64\n",
            " 17  Region_North America    40000 non-null  float64\n",
            " 18  Region_South America    40000 non-null  float64\n",
            " 19  Model_3 Series          40000 non-null  float64\n",
            " 20  Model_5 Series          40000 non-null  float64\n",
            " 21  Model_7 Series          40000 non-null  float64\n",
            " 22  Model_M3                40000 non-null  float64\n",
            " 23  Model_M5                40000 non-null  float64\n",
            " 24  Model_X1                40000 non-null  float64\n",
            " 25  Model_X3                40000 non-null  float64\n",
            " 26  Model_X5                40000 non-null  float64\n",
            " 27  Model_X6                40000 non-null  float64\n",
            " 28  Model_i3                40000 non-null  float64\n",
            " 29  Model_i8                40000 non-null  float64\n",
            " 30  Transmission_Automatic  40000 non-null  float64\n",
            " 31  Transmission_Manual     40000 non-null  float64\n",
            "dtypes: float64(32)\n",
            "memory usage: 9.8 MB\n"
          ]
        }
      ],
      "source": [
        "ohe = preprocessor.named_transformers_['onehot']\n",
        "ohe_feature_names = ohe.get_feature_names_out(categorical_cols)\n",
        "\n",
        "all_feature_names = scaled_cols + list(ohe_feature_names)\n",
        "\n",
        "x_train_processed_df = pd.DataFrame(x_train_processed, columns=all_feature_names)\n",
        "x_train_processed_df.info()"
      ]
    },
    {
      "cell_type": "code",
      "execution_count": 20,
      "id": "blSX7ZjcmSk3",
      "metadata": {
        "colab": {
          "base_uri": "https://localhost:8080/",
          "height": 147
        },
        "id": "blSX7ZjcmSk3",
        "outputId": "aae38b5c-6cc8-4509-d6ec-da4b674be2e2"
      },
      "outputs": [
        {
          "output_type": "execute_result",
          "data": {
            "text/plain": [
              "1    69.51\n",
              "0    30.49\n",
              "Name: proportion, dtype: float64"
            ],
            "text/html": [
              "<div>\n",
              "<style scoped>\n",
              "    .dataframe tbody tr th:only-of-type {\n",
              "        vertical-align: middle;\n",
              "    }\n",
              "\n",
              "    .dataframe tbody tr th {\n",
              "        vertical-align: top;\n",
              "    }\n",
              "\n",
              "    .dataframe thead th {\n",
              "        text-align: right;\n",
              "    }\n",
              "</style>\n",
              "<table border=\"1\" class=\"dataframe\">\n",
              "  <thead>\n",
              "    <tr style=\"text-align: right;\">\n",
              "      <th></th>\n",
              "      <th>proportion</th>\n",
              "    </tr>\n",
              "  </thead>\n",
              "  <tbody>\n",
              "    <tr>\n",
              "      <th>1</th>\n",
              "      <td>69.51</td>\n",
              "    </tr>\n",
              "    <tr>\n",
              "      <th>0</th>\n",
              "      <td>30.49</td>\n",
              "    </tr>\n",
              "  </tbody>\n",
              "</table>\n",
              "</div><br><label><b>dtype:</b> float64</label>"
            ]
          },
          "metadata": {},
          "execution_count": 20
        }
      ],
      "source": [
        "pd.Series(y_test_encoded).value_counts(normalize=True) * 100"
      ]
    },
    {
      "cell_type": "code",
      "execution_count": 33,
      "id": "77bf8ed6-7034-4228-9281-c68446908ffd",
      "metadata": {
        "colab": {
          "base_uri": "https://localhost:8080/"
        },
        "id": "77bf8ed6-7034-4228-9281-c68446908ffd",
        "outputId": "c2eb52ae-7268-4800-cf4b-e748d7440210"
      },
      "outputs": [
        {
          "output_type": "stream",
          "name": "stdout",
          "text": [
            "Model: svm\n",
            " train  accuracy: 0.9944, Precision: 0.9944, recall: 0.9944, F1: 0.9944\n",
            " test   accuracy: 0.9876, precision: 0.9876, recall: 0.9876, F1: 0.9876\n",
            "\n",
            "Model: naive bayes\n",
            " train  accuracy: 0.9955, Precision: 0.9955, recall: 0.9955, F1: 0.9955\n",
            " test   accuracy: 0.9957, precision: 0.9957, recall: 0.9957, F1: 0.9957\n",
            "\n",
            "Model: random forest\n",
            " train  accuracy: 1.0000, Precision: 1.0000, recall: 1.0000, F1: 1.0000\n",
            " test   accuracy: 1.0000, precision: 1.0000, recall: 1.0000, F1: 1.0000\n",
            "\n",
            "Model: XGBoost\n",
            " train  accuracy: 1.0000, Precision: 1.0000, recall: 1.0000, F1: 1.0000\n",
            " test   accuracy: 1.0000, precision: 1.0000, recall: 1.0000, F1: 1.0000\n",
            "\n",
            "Model: decision dree\n",
            " train  accuracy: 1.0000, Precision: 1.0000, recall: 1.0000, F1: 1.0000\n",
            " test   accuracy: 1.0000, precision: 1.0000, recall: 1.0000, F1: 1.0000\n",
            "\n",
            "Model: logistic regression\n",
            " train  accuracy: 0.9985, Precision: 0.9985, recall: 0.9985, F1: 0.9985\n",
            " test   accuracy: 0.9986, precision: 0.9986, recall: 0.9986, F1: 0.9986\n",
            "\n",
            "Model: KNN\n",
            " train  accuracy: 0.8750, Precision: 0.8755, recall: 0.8750, F1: 0.8701\n",
            " test   accuracy: 0.7691, precision: 0.7585, recall: 0.7691, F1: 0.7512\n",
            "\n",
            "Model: ex_trees\n",
            " train  accuracy: 1.0000, Precision: 1.0000, recall: 1.0000, F1: 1.0000\n",
            " test   accuracy: 0.9808, precision: 0.9808, recall: 0.9808, F1: 0.9807\n",
            "\n",
            "Model: bagging\n",
            " train  accuracy: 1.0000, Precision: 1.0000, recall: 1.0000, F1: 1.0000\n",
            " test   accuracy: 1.0000, precision: 1.0000, recall: 1.0000, F1: 1.0000\n",
            "\n"
          ]
        }
      ],
      "source": [
        "def evaluate_models(x_train_processed, y_train_encoded, x_test_processed, y_test_encoded):\n",
        "    models = {'svm': SVC(),'naive bayes': GaussianNB(),'random forest': RandomForestClassifier(),'XGBoost': XGBClassifier(),'decision dree': DecisionTreeClassifier(),'logistic regression': LogisticRegression(),\n",
        "     'KNN': KNeighborsClassifier(),'ex_trees':ExtraTreesClassifier(),'bagging':BaggingClassifier() }\n",
        "\n",
        "    for name, model in models.items():\n",
        "\n",
        "        print(f\"Model: {name}\")\n",
        "        model.fit(x_train_processed, y_train_encoded)\n",
        "        y_train_pred = model.predict(x_train_processed)\n",
        "        y_test_pred = model.predict(x_test_processed)\n",
        "\n",
        "        train_acc = accuracy_score(y_train_encoded, y_train_pred)\n",
        "        train_prec = precision_score(y_train_encoded, y_train_pred, average='weighted', zero_division=0)\n",
        "        train_rec = recall_score(y_train_encoded, y_train_pred, average='weighted')\n",
        "        train_f1 = f1_score(y_train_encoded, y_train_pred, average='weighted')\n",
        "\n",
        "        test_acc = accuracy_score(y_test_encoded, y_test_pred)\n",
        "        test_prec = precision_score(y_test_encoded, y_test_pred, average='weighted', zero_division=0)\n",
        "        test_rec = recall_score(y_test_encoded, y_test_pred, average='weighted')\n",
        "        test_f1 = f1_score(y_test_encoded, y_test_pred, average='weighted')\n",
        "\n",
        "        print(f\" train  accuracy: {train_acc:.4f}, Precision: {train_prec:.4f}, recall: {train_rec:.4f}, F1: {train_f1:.4f}\")\n",
        "        print(f\" test   accuracy: {test_acc:.4f}, precision: {test_prec:.4f}, recall: {test_rec:.4f}, F1: {test_f1:.4f}\\n\")\n",
        "\n",
        "\n",
        "\n",
        "\n",
        "evaluate_models(x_train_processed, y_train_encoded, x_test_processed, y_test_encoded)\n"
      ]
    },
    {
      "cell_type": "markdown",
      "id": "mnMrDAAX_O65",
      "metadata": {
        "id": "mnMrDAAX_O65"
      },
      "source": [
        " performance evaluation was conducted on multiple classification models using accuracy precision recall and f1 score on both training and testing data the naive bayes logistic regression and svm models showed excellent results while the other models indicated signs of overfitting"
      ]
    },
    {
      "cell_type": "code",
      "execution_count": 34,
      "id": "DN5W90cUseRO",
      "metadata": {
        "colab": {
          "base_uri": "https://localhost:8080/"
        },
        "id": "DN5W90cUseRO",
        "outputId": "4afba292-0517-45c6-90fa-27f930678d60"
      },
      "outputs": [
        {
          "output_type": "stream",
          "name": "stdout",
          "text": [
            "c=0.1 gamma=0.1\n",
            "train acc=0.9086 prec=0.9300 rec=0.9086 f1=0.9115\n",
            "test  acc=0.9103 prec=0.9307 rec=0.9103 f1=0.9130\n",
            "\n",
            "c=0.1 gamma=1\n",
            "train acc=0.9181 prec=0.9231 rec=0.9181 f1=0.9147\n",
            "test  acc=0.7862 prec=0.8116 rec=0.7862 f1=0.7500\n",
            "\n",
            "c=0.1 gamma=2\n",
            "train acc=0.7016 prec=0.7908 rec=0.7016 f1=0.5797\n",
            "test  acc=0.6951 prec=0.4832 rec=0.6951 f1=0.5701\n",
            "\n",
            "c=0.1 gamma=5\n",
            "train acc=0.7005 prec=0.4907 rec=0.7005 f1=0.5771\n",
            "test  acc=0.6951 prec=0.4832 rec=0.6951 f1=0.5701\n",
            "\n",
            "c=1 gamma=0.1\n",
            "train acc=0.9659 prec=0.9694 rec=0.9659 f1=0.9664\n",
            "test  acc=0.9632 prec=0.9671 rec=0.9632 f1=0.9637\n",
            "\n",
            "c=1 gamma=1\n",
            "train acc=0.9683 prec=0.9713 rec=0.9683 f1=0.9687\n",
            "test  acc=0.8857 prec=0.8894 rec=0.8857 f1=0.8869\n",
            "\n",
            "c=1 gamma=2\n",
            "train acc=0.9683 prec=0.9711 rec=0.9683 f1=0.9687\n",
            "test  acc=0.7257 prec=0.7095 rec=0.7257 f1=0.7125\n",
            "\n",
            "c=1 gamma=5\n",
            "train acc=0.9895 prec=0.9899 rec=0.9895 f1=0.9896\n",
            "test  acc=0.7346 prec=0.7188 rec=0.7346 f1=0.6944\n",
            "\n",
            "c=4 gamma=0.1\n",
            "train acc=0.9848 prec=0.9855 rec=0.9848 f1=0.9849\n",
            "test  acc=0.9744 prec=0.9756 rec=0.9744 f1=0.9746\n",
            "\n",
            "c=4 gamma=1\n",
            "train acc=0.9899 prec=0.9902 rec=0.9899 f1=0.9899\n",
            "test  acc=0.9008 prec=0.9001 rec=0.9008 f1=0.9004\n",
            "\n",
            "c=4 gamma=2\n",
            "train acc=0.9914 prec=0.9916 rec=0.9914 f1=0.9914\n",
            "test  acc=0.7430 prec=0.7265 rec=0.7430 f1=0.7236\n",
            "\n",
            "c=4 gamma=5\n",
            "train acc=0.9986 prec=0.9986 rec=0.9986 f1=0.9986\n",
            "test  acc=0.7366 prec=0.7238 rec=0.7366 f1=0.6940\n",
            "\n",
            "c=10 gamma=0.1\n",
            "train acc=0.9931 prec=0.9933 rec=0.9931 f1=0.9931\n",
            "test  acc=0.9788 prec=0.9792 rec=0.9788 f1=0.9789\n",
            "\n",
            "c=10 gamma=1\n",
            "train acc=0.9978 prec=0.9978 rec=0.9978 f1=0.9978\n",
            "test  acc=0.9068 prec=0.9061 rec=0.9068 f1=0.9063\n",
            "\n",
            "c=10 gamma=2\n",
            "train acc=0.9985 prec=0.9985 rec=0.9985 f1=0.9985\n",
            "test  acc=0.7450 prec=0.7288 rec=0.7450 f1=0.7246\n",
            "\n",
            "c=10 gamma=5\n",
            "train acc=0.9994 prec=0.9994 rec=0.9994 f1=0.9994\n",
            "test  acc=0.7367 prec=0.7241 rec=0.7367 f1=0.6938\n",
            "\n",
            "best c=10 gamma=0.1\n",
            "test acc=0.9788 prec=0.9792 rec=0.9788 f1=0.9789\n"
          ]
        }
      ],
      "source": [
        "c_values = [0.1, 1,4, 10]\n",
        "gamma_values = [0.1, 1,2,5]\n",
        "results = []\n",
        "\n",
        "sample = 0.2\n",
        "sample_size = int(len(x_train_processed) * sample)\n",
        "\n",
        "np.random.seed(42)\n",
        "indices = np.random.choice(len(x_train_processed), size=sample_size, replace=False)\n",
        "\n",
        "x_sample = x_train_processed[indices]\n",
        "y_sample = y_train_encoded[indices]\n",
        "\n",
        "for C in c_values:\n",
        "    for gamma in gamma_values:\n",
        "        model = SVC(C=C, gamma=gamma, kernel='rbf',class_weight='balanced')\n",
        "        model.fit(x_sample, y_sample)\n",
        "\n",
        "        y_train_pred = model.predict(x_sample)\n",
        "        train_acc = accuracy_score(y_sample, y_train_pred)\n",
        "        train_prec = precision_score(y_sample, y_train_pred, average='weighted', zero_division=0)\n",
        "        train_rec = recall_score(y_sample, y_train_pred, average='weighted')\n",
        "        train_f1 = f1_score(y_sample, y_train_pred, average='weighted')\n",
        "\n",
        "        y_test_pred = model.predict(x_test_processed)\n",
        "        test_acc = accuracy_score(y_test_encoded, y_test_pred)\n",
        "        test_prec = precision_score(y_test_encoded, y_test_pred, average='weighted', zero_division=0)\n",
        "        test_rec = recall_score(y_test_encoded, y_test_pred, average='weighted')\n",
        "        test_f1 = f1_score(y_test_encoded, y_test_pred, average='weighted')\n",
        "\n",
        "        results.append({'C': C,'gamma': gamma,'train_acc': train_acc,'train_prec': train_prec,'train_rec': train_rec,'train_f1': train_f1,'test_acc': test_acc,'test_prec': test_prec,'test_rec': test_rec,\n",
        "            'test_f1': test_f1 })\n",
        "\n",
        "for res in results:\n",
        "    print(f\"c={res['C']} gamma={res['gamma']}\")\n",
        "    print(f\"train acc={res['train_acc']:.4f} prec={res['train_prec']:.4f} rec={res['train_rec']:.4f} f1={res['train_f1']:.4f}\")\n",
        "    print(f\"test  acc={res['test_acc']:.4f} prec={res['test_prec']:.4f} rec={res['test_rec']:.4f} f1={res['test_f1']:.4f}\")\n",
        "    print(\"\")\n",
        "\n",
        "best_model = max(results, key=lambda x: x['test_f1'])\n",
        "\n",
        "print(f\"best c={best_model['C']} gamma={best_model['gamma']}\")\n",
        "print(f\"test acc={best_model['test_acc']:.4f} prec={best_model['test_prec']:.4f} rec={best_model['test_rec']:.4f} f1={best_model['test_f1']:.4f}\")\n"
      ]
    },
    {
      "cell_type": "markdown",
      "id": "J3GvZZ-5_sHR",
      "metadata": {
        "id": "J3GvZZ-5_sHR"
      },
      "source": [
        "different values of gamma and c were tested on the svm model using a random sample of the data to find the best values to use"
      ]
    },
    {
      "cell_type": "code",
      "execution_count": 35,
      "id": "2sffnb6jqz60",
      "metadata": {
        "colab": {
          "base_uri": "https://localhost:8080/"
        },
        "id": "2sffnb6jqz60",
        "outputId": "1f2b7e20-4966-4981-8808-e43d553f67b3"
      },
      "outputs": [
        {
          "output_type": "stream",
          "name": "stdout",
          "text": [
            "\n",
            "svm results:\n",
            "train -> acc=0.9934 prec=0.9935 rec=0.9934 f1=0.9934\n",
            "test  -> acc=0.9891 prec=0.9893 rec=0.9891 f1=0.9891\n"
          ]
        }
      ],
      "source": [
        "model_1 = SVC(C=10,gamma=0.1,kernel='rbf',class_weight='balanced')\n",
        "model_1.fit(x_train_processed, y_train_encoded)\n",
        "\n",
        "y_train_pred_svm = model_1.predict(x_train_processed)\n",
        "y_test_pred_svm = model_1.predict(x_test_processed)\n",
        "\n",
        "train_acc_svm = accuracy_score(y_train_encoded, y_train_pred_svm)\n",
        "train_prec_svm = precision_score(y_train_encoded, y_train_pred_svm, average='weighted', zero_division=0)\n",
        "train_rec_svm = recall_score(y_train_encoded, y_train_pred_svm, average='weighted')\n",
        "train_f1_svm = f1_score(y_train_encoded, y_train_pred_svm, average='weighted')\n",
        "\n",
        "test_acc_svm = accuracy_score(y_test_encoded, y_test_pred_svm)\n",
        "test_prec_svm = precision_score(y_test_encoded, y_test_pred_svm, average='weighted', zero_division=0)\n",
        "test_rec_svm = recall_score(y_test_encoded, y_test_pred_svm, average='weighted')\n",
        "test_f1_svm = f1_score(y_test_encoded, y_test_pred_svm, average='weighted')\n",
        "\n",
        "print(\"\\nsvm results:\")\n",
        "print(f\"train -> acc={train_acc_svm:.4f} prec={train_prec_svm:.4f} rec={train_rec_svm:.4f} f1={train_f1_svm:.4f}\")\n",
        "print(f\"test  -> acc={test_acc_svm:.4f} prec={test_prec_svm:.4f} rec={test_rec_svm:.4f} f1={test_f1_svm:.4f}\")\n"
      ]
    },
    {
      "cell_type": "markdown",
      "id": "zIPwsWmKAUxn",
      "metadata": {
        "id": "zIPwsWmKAUxn"
      },
      "source": [
        "the previously specified parameters were tested on the svm model using the linear kernel and the results showed high accuracy demonstrating the models strong ability to separate the two classe"
      ]
    },
    {
      "cell_type": "code",
      "execution_count": 36,
      "id": "AoyHQfcGFrux",
      "metadata": {
        "colab": {
          "base_uri": "https://localhost:8080/",
          "height": 507
        },
        "id": "AoyHQfcGFrux",
        "outputId": "0f4f92da-1567-4956-9fdf-3092370458ae"
      },
      "outputs": [
        {
          "output_type": "display_data",
          "data": {
            "text/plain": [
              "<Figure size 640x480 with 2 Axes>"
            ],
            "image/png": "[encoded data removed]"
          },
          "metadata": {}
        },
        {
          "output_type": "execute_result",
          "data": {
            "text/plain": [
              "array([[3036,   13],\n",
              "       [  96, 6855]])"
            ]
          },
          "metadata": {},
          "execution_count": 36
        }
      ],
      "source": [
        "cm = confusion_matrix(y_test_encoded, y_test_pred_svm)\n",
        "disp = ConfusionMatrixDisplay(confusion_matrix=cm)\n",
        "disp.plot(cmap='Blues')\n",
        "plt.title(\"svm confusion matrix\")\n",
        "plt.show()\n",
        "cm\n"
      ]
    },
    {
      "cell_type": "markdown",
      "id": "mRurEOPKCF-B",
      "metadata": {
        "id": "mRurEOPKCF-B"
      },
      "source": [
        "the confusion matrix shows that the model correctly classified 3036 true positives from class one and only 13 false negatives from class one misclassified as class two also 96 false positives were misclassified as class one while 6855 true negatives from class two were correctly identified the errors are very few and the model is able to distinguish between the two classes effectively"
      ]
    },
    {
      "cell_type": "code",
      "execution_count": 21,
      "id": "CVh6PVtZpIKm",
      "metadata": {
        "colab": {
          "base_uri": "https://localhost:8080/"
        },
        "id": "CVh6PVtZpIKm",
        "outputId": "303a5e2d-dc85-4343-a72a-7dfd7bb8e2ed"
      },
      "outputs": [
        {
          "output_type": "stream",
          "name": "stdout",
          "text": [
            "\n",
            "naive bayes results:\n",
            "train -> acc=0.9955 prec=0.9955 rec=0.9955 f1=0.9955\n",
            "test  -> acc=0.9957 prec=0.9957 rec=0.9957 f1=0.9957\n"
          ]
        }
      ],
      "source": [
        "model_2 = GaussianNB()\n",
        "model_2.fit(x_train_processed, y_train_encoded)\n",
        "\n",
        "y_train_pred_nb = model_2.predict(x_train_processed)\n",
        "y_test_pred_nb = model_2.predict(x_test_processed)\n",
        "\n",
        "train_acc_nb = accuracy_score(y_train_encoded, y_train_pred_nb)\n",
        "train_prec_nb = precision_score(y_train_encoded, y_train_pred_nb, average='weighted', zero_division=0)\n",
        "train_rec_nb = recall_score(y_train_encoded, y_train_pred_nb, average='weighted')\n",
        "train_f1_nb = f1_score(y_train_encoded, y_train_pred_nb, average='weighted')\n",
        "\n",
        "test_acc_nb = accuracy_score(y_test_encoded, y_test_pred_nb)\n",
        "test_prec_nb = precision_score(y_test_encoded, y_test_pred_nb, average='weighted', zero_division=0)\n",
        "test_rec_nb = recall_score(y_test_encoded, y_test_pred_nb, average='weighted')\n",
        "test_f1_nb = f1_score(y_test_encoded, y_test_pred_nb, average='weighted')\n",
        "\n",
        "print(\"\\nnaive bayes results:\")\n",
        "print(f\"train -> acc={train_acc_nb:.4f} prec={train_prec_nb:.4f} rec={train_rec_nb:.4f} f1={train_f1_nb:.4f}\")\n",
        "print(f\"test  -> acc={test_acc_nb:.4f} prec={test_prec_nb:.4f} rec={test_rec_nb:.4f} f1={test_f1_nb:.4f}\")\n"
      ]
    },
    {
      "cell_type": "code",
      "execution_count": 22,
      "id": "TNzkON-eAcky",
      "metadata": {
        "colab": {
          "base_uri": "https://localhost:8080/",
          "height": 507
        },
        "id": "TNzkON-eAcky",
        "outputId": "571f06f9-8c17-4b65-a732-b23490f66d45"
      },
      "outputs": [
        {
          "output_type": "display_data",
          "data": {
            "text/plain": [
              "<Figure size 640x480 with 2 Axes>"
            ],
            "image/png": "[encoded data removed]"
          },
          "metadata": {}
        },
        {
          "output_type": "execute_result",
          "data": {
            "text/plain": [
              "array([[3024,   25],\n",
              "       [  18, 6933]])"
            ]
          },
          "metadata": {},
          "execution_count": 22
        }
      ],
      "source": [
        "cm = confusion_matrix(y_test_encoded, y_test_pred_nb)\n",
        "disp = ConfusionMatrixDisplay(confusion_matrix=cm)\n",
        "disp.plot(cmap='Blues')\n",
        "plt.title(\"naive bayes confusion matrix \")\n",
        "plt.show()\n",
        "cm"
      ]
    },
    {
      "cell_type": "markdown",
      "id": "71f74fa3-e9af-49d1-8f3e-9c4205989a1b",
      "metadata": {
        "id": "71f74fa3-e9af-49d1-8f3e-9c4205989a1b"
      },
      "source": [
        "The confusion matrix shows that the model correctly classified 3024 true positives from class one, with only 25 false negatives misclassified as class two. Additionally, there were 18 false positives misclassified as class one, while 6933 true negatives from class two were correctly identified. The number of errors is very low, and the model is able to distinguish between the two classes effectively. The SVM model performed better in identifying class one, while the Naive Bayes model showed better performance in classifying class two, but the difference between the two models is minimal"
      ]
    },
    {
      "cell_type": "code",
      "execution_count": 23,
      "id": "ZAmWl7_XAwTe",
      "metadata": {
        "colab": {
          "base_uri": "https://localhost:8080/",
          "height": 472
        },
        "id": "ZAmWl7_XAwTe",
        "outputId": "fec07f66-a35f-4f39-ee1c-d962cced1882"
      },
      "outputs": [
        {
          "output_type": "display_data",
          "data": {
            "text/plain": [
              "<Figure size 640x480 with 1 Axes>"
            ],
            "image/png": "[encoded data removed]"
          },
          "metadata": {}
        }
      ],
      "source": [
        "y_prob_nb = model_2.predict_proba(x_test_processed)[:, 1]\n",
        "\n",
        "fpr, tpr, thresholds = roc_curve(y_test_encoded, y_prob_nb)\n",
        "roc_auc = auc(fpr, tpr)\n",
        "\n",
        "plt.figure()\n",
        "plt.plot(fpr, tpr, color='darkorange', lw=2, label=f'ROC curve (AUC = {roc_auc:.4f})')\n",
        "plt.plot([0, 1], [0, 1], color='navy', lw=2, linestyle='--')\n",
        "plt.xlim([0.0, 1.0])\n",
        "plt.ylim([0.0, 1.05])\n",
        "plt.xlabel('False Positive Rate')\n",
        "plt.ylabel('True Positive Rate')\n",
        "plt.title('ROC Curve - GaussianNB')\n",
        "plt.legend(loc=\"lower right\")\n",
        "plt.grid(True)\n",
        "plt.show()\n"
      ]
    },
    {
      "cell_type": "markdown",
      "id": "cg6CdRNjDjE5",
      "metadata": {
        "id": "cg6CdRNjDjE5"
      },
      "source": [
        "the roc curve demonstrates the model strength by its steady upward trend without fluctuations and its clear separation from the random guess line"
      ]
    },
    {
      "cell_type": "markdown",
      "id": "3jPvQ3rCOH9x",
      "metadata": {
        "id": "3jPvQ3rCOH9x"
      },
      "source": [
        "lets go to try ann"
      ]
    },
    {
      "cell_type": "code",
      "execution_count": 24,
      "id": "S2ZxZRN80X5S",
      "metadata": {
        "colab": {
          "base_uri": "https://localhost:8080/"
        },
        "id": "S2ZxZRN80X5S",
        "outputId": "a7cd601a-d522-4f41-bf5e-2002c052dfee"
      },
      "outputs": [
        {
          "output_type": "stream",
          "name": "stderr",
          "text": [
            "/usr/local/lib/python3.12/dist-packages/keras/src/layers/core/dense.py:93: UserWarning: Do not pass an `input_shape`/`input_dim` argument to a layer. When using Sequential models, prefer using an `Input(shape)` object as the first layer in the model instead.\n",
            "  super().__init__(activity_regularizer=activity_regularizer, **kwargs)\n"
          ]
        },
        {
          "output_type": "stream",
          "name": "stdout",
          "text": [
            "Epoch 1/100\n",
            "\u001b[1m500/500\u001b[0m \u001b[32m━━━━━━━━━━━━━━━━━━━━\u001b[0m\u001b[37m\u001b[0m \u001b[1m4s\u001b[0m 3ms/step - accuracy: 0.6872 - loss: 0.6486 - val_accuracy: 0.9730 - val_loss: 0.1560\n",
            "Epoch 2/100\n",
            "\u001b[1m500/500\u001b[0m \u001b[32m━━━━━━━━━━━━━━━━━━━━\u001b[0m\u001b[37m\u001b[0m \u001b[1m2s\u001b[0m 3ms/step - accuracy: 0.9394 - loss: 0.2003 - val_accuracy: 0.9866 - val_loss: 0.0896\n",
            "Epoch 3/100\n",
            "\u001b[1m500/500\u001b[0m \u001b[32m━━━━━━━━━━━━━━━━━━━━\u001b[0m\u001b[37m\u001b[0m \u001b[1m1s\u001b[0m 3ms/step - accuracy: 0.9737 - loss: 0.1146 - val_accuracy: 0.9926 - val_loss: 0.0704\n",
            "Epoch 4/100\n",
            "\u001b[1m500/500\u001b[0m \u001b[32m━━━━━━━━━━━━━━━━━━━━\u001b[0m\u001b[37m\u001b[0m \u001b[1m1s\u001b[0m 3ms/step - accuracy: 0.9815 - loss: 0.0922 - val_accuracy: 0.9919 - val_loss: 0.0642\n",
            "Epoch 5/100\n",
            "\u001b[1m500/500\u001b[0m \u001b[32m━━━━━━━━━━━━━━━━━━━━\u001b[0m\u001b[37m\u001b[0m \u001b[1m3s\u001b[0m 3ms/step - accuracy: 0.9831 - loss: 0.0803 - val_accuracy: 0.9911 - val_loss: 0.0597\n",
            "Epoch 6/100\n",
            "\u001b[1m500/500\u001b[0m \u001b[32m━━━━━━━━━━━━━━━━━━━━\u001b[0m\u001b[37m\u001b[0m \u001b[1m2s\u001b[0m 4ms/step - accuracy: 0.9849 - loss: 0.0744 - val_accuracy: 0.9937 - val_loss: 0.0523\n",
            "Epoch 7/100\n",
            "\u001b[1m500/500\u001b[0m \u001b[32m━━━━━━━━━━━━━━━━━━━━\u001b[0m\u001b[37m\u001b[0m \u001b[1m2s\u001b[0m 3ms/step - accuracy: 0.9861 - loss: 0.0688 - val_accuracy: 0.9904 - val_loss: 0.0549\n",
            "Epoch 8/100\n",
            "\u001b[1m500/500\u001b[0m \u001b[32m━━━━━━━━━━━━━━━━━━━━\u001b[0m\u001b[37m\u001b[0m \u001b[1m1s\u001b[0m 3ms/step - accuracy: 0.9861 - loss: 0.0676 - val_accuracy: 0.9909 - val_loss: 0.0531\n",
            "Epoch 9/100\n",
            "\u001b[1m500/500\u001b[0m \u001b[32m━━━━━━━━━━━━━━━━━━━━\u001b[0m\u001b[37m\u001b[0m \u001b[1m1s\u001b[0m 3ms/step - accuracy: 0.9890 - loss: 0.0613 - val_accuracy: 0.9910 - val_loss: 0.0512\n",
            "Epoch 10/100\n",
            "\u001b[1m500/500\u001b[0m \u001b[32m━━━━━━━━━━━━━━━━━━━━\u001b[0m\u001b[37m\u001b[0m \u001b[1m1s\u001b[0m 3ms/step - accuracy: 0.9872 - loss: 0.0620 - val_accuracy: 0.9935 - val_loss: 0.0461\n",
            "Epoch 11/100\n",
            "\u001b[1m500/500\u001b[0m \u001b[32m━━━━━━━━━━━━━━━━━━━━\u001b[0m\u001b[37m\u001b[0m \u001b[1m1s\u001b[0m 3ms/step - accuracy: 0.9873 - loss: 0.0592 - val_accuracy: 0.9896 - val_loss: 0.0521\n",
            "Epoch 12/100\n",
            "\u001b[1m500/500\u001b[0m \u001b[32m━━━━━━━━━━━━━━━━━━━━\u001b[0m\u001b[37m\u001b[0m \u001b[1m3s\u001b[0m 3ms/step - accuracy: 0.9860 - loss: 0.0614 - val_accuracy: 0.9945 - val_loss: 0.0431\n",
            "Epoch 13/100\n",
            "\u001b[1m500/500\u001b[0m \u001b[32m━━━━━━━━━━━━━━━━━━━━\u001b[0m\u001b[37m\u001b[0m \u001b[1m6s\u001b[0m 9ms/step - accuracy: 0.9870 - loss: 0.0584 - val_accuracy: 0.9951 - val_loss: 0.0424\n",
            "Epoch 14/100\n",
            "\u001b[1m500/500\u001b[0m \u001b[32m━━━━━━━━━━━━━━━━━━━━\u001b[0m\u001b[37m\u001b[0m \u001b[1m4s\u001b[0m 6ms/step - accuracy: 0.9884 - loss: 0.0570 - val_accuracy: 0.9959 - val_loss: 0.0406\n",
            "Epoch 15/100\n",
            "\u001b[1m500/500\u001b[0m \u001b[32m━━━━━━━━━━━━━━━━━━━━\u001b[0m\u001b[37m\u001b[0m \u001b[1m3s\u001b[0m 6ms/step - accuracy: 0.9880 - loss: 0.0569 - val_accuracy: 0.9933 - val_loss: 0.0416\n",
            "Epoch 16/100\n",
            "\u001b[1m500/500\u001b[0m \u001b[32m━━━━━━━━━━━━━━━━━━━━\u001b[0m\u001b[37m\u001b[0m \u001b[1m6s\u001b[0m 8ms/step - accuracy: 0.9871 - loss: 0.0564 - val_accuracy: 0.9902 - val_loss: 0.0465\n",
            "Epoch 17/100\n",
            "\u001b[1m500/500\u001b[0m \u001b[32m━━━━━━━━━━━━━━━━━━━━\u001b[0m\u001b[37m\u001b[0m \u001b[1m3s\u001b[0m 3ms/step - accuracy: 0.9874 - loss: 0.0552 - val_accuracy: 0.9931 - val_loss: 0.0433\n",
            "Epoch 18/100\n",
            "\u001b[1m500/500\u001b[0m \u001b[32m━━━━━━━━━━━━━━━━━━━━\u001b[0m\u001b[37m\u001b[0m \u001b[1m2s\u001b[0m 3ms/step - accuracy: 0.9887 - loss: 0.0532 - val_accuracy: 0.9955 - val_loss: 0.0391\n",
            "Epoch 19/100\n",
            "\u001b[1m500/500\u001b[0m \u001b[32m━━━━━━━━━━━━━━━━━━━━\u001b[0m\u001b[37m\u001b[0m \u001b[1m1s\u001b[0m 3ms/step - accuracy: 0.9888 - loss: 0.0547 - val_accuracy: 0.9909 - val_loss: 0.0437\n",
            "Epoch 20/100\n",
            "\u001b[1m500/500\u001b[0m \u001b[32m━━━━━━━━━━━━━━━━━━━━\u001b[0m\u001b[37m\u001b[0m \u001b[1m3s\u001b[0m 3ms/step - accuracy: 0.9878 - loss: 0.0552 - val_accuracy: 0.9960 - val_loss: 0.0384\n",
            "Epoch 21/100\n",
            "\u001b[1m500/500\u001b[0m \u001b[32m━━━━━━━━━━━━━━━━━━━━\u001b[0m\u001b[37m\u001b[0m \u001b[1m2s\u001b[0m 4ms/step - accuracy: 0.9887 - loss: 0.0528 - val_accuracy: 0.9933 - val_loss: 0.0413\n",
            "Epoch 22/100\n",
            "\u001b[1m500/500\u001b[0m \u001b[32m━━━━━━━━━━━━━━━━━━━━\u001b[0m\u001b[37m\u001b[0m \u001b[1m2s\u001b[0m 4ms/step - accuracy: 0.9878 - loss: 0.0547 - val_accuracy: 0.9911 - val_loss: 0.0439\n",
            "Epoch 23/100\n",
            "\u001b[1m500/500\u001b[0m \u001b[32m━━━━━━━━━━━━━━━━━━━━\u001b[0m\u001b[37m\u001b[0m \u001b[1m2s\u001b[0m 3ms/step - accuracy: 0.9889 - loss: 0.0521 - val_accuracy: 0.9944 - val_loss: 0.0396\n",
            "Epoch 24/100\n",
            "\u001b[1m500/500\u001b[0m \u001b[32m━━━━━━━━━━━━━━━━━━━━\u001b[0m\u001b[37m\u001b[0m \u001b[1m1s\u001b[0m 3ms/step - accuracy: 0.9881 - loss: 0.0514 - val_accuracy: 0.9960 - val_loss: 0.0363\n",
            "Epoch 25/100\n",
            "\u001b[1m500/500\u001b[0m \u001b[32m━━━━━━━━━━━━━━━━━━━━\u001b[0m\u001b[37m\u001b[0m \u001b[1m1s\u001b[0m 3ms/step - accuracy: 0.9880 - loss: 0.0504 - val_accuracy: 0.9930 - val_loss: 0.0392\n",
            "Epoch 26/100\n",
            "\u001b[1m500/500\u001b[0m \u001b[32m━━━━━━━━━━━━━━━━━━━━\u001b[0m\u001b[37m\u001b[0m \u001b[1m1s\u001b[0m 3ms/step - accuracy: 0.9883 - loss: 0.0499 - val_accuracy: 0.9956 - val_loss: 0.0348\n",
            "Epoch 27/100\n",
            "\u001b[1m500/500\u001b[0m \u001b[32m━━━━━━━━━━━━━━━━━━━━\u001b[0m\u001b[37m\u001b[0m \u001b[1m1s\u001b[0m 3ms/step - accuracy: 0.9893 - loss: 0.0502 - val_accuracy: 0.9927 - val_loss: 0.0390\n",
            "Epoch 28/100\n",
            "\u001b[1m500/500\u001b[0m \u001b[32m━━━━━━━━━━━━━━━━━━━━\u001b[0m\u001b[37m\u001b[0m \u001b[1m1s\u001b[0m 3ms/step - accuracy: 0.9889 - loss: 0.0495 - val_accuracy: 0.9923 - val_loss: 0.0418\n",
            "Epoch 29/100\n",
            "\u001b[1m500/500\u001b[0m \u001b[32m━━━━━━━━━━━━━━━━━━━━\u001b[0m\u001b[37m\u001b[0m \u001b[1m3s\u001b[0m 4ms/step - accuracy: 0.9891 - loss: 0.0507 - val_accuracy: 0.9961 - val_loss: 0.0348\n",
            "Epoch 30/100\n",
            "\u001b[1m500/500\u001b[0m \u001b[32m━━━━━━━━━━━━━━━━━━━━\u001b[0m\u001b[37m\u001b[0m \u001b[1m2s\u001b[0m 3ms/step - accuracy: 0.9887 - loss: 0.0491 - val_accuracy: 0.9951 - val_loss: 0.0364\n",
            "Epoch 31/100\n",
            "\u001b[1m500/500\u001b[0m \u001b[32m━━━━━━━━━━━━━━━━━━━━\u001b[0m\u001b[37m\u001b[0m \u001b[1m2s\u001b[0m 3ms/step - accuracy: 0.9899 - loss: 0.0489 - val_accuracy: 0.9934 - val_loss: 0.0381\n"
          ]
        }
      ],
      "source": [
        "neural_network_model = Sequential([\n",
        "    Dense(28, activation='relu', input_shape=(32,), kernel_regularizer=l2(0.001)),\n",
        "    Dropout(0.3),\n",
        "    Dense(28, activation='relu', kernel_regularizer=l2(0.001)),\n",
        "    Dropout(0.3),\n",
        "    Dense(28, activation='relu', kernel_regularizer=l2(0.001)),\n",
        "    Dropout(0.3),\n",
        "\n",
        "    Dense(1, activation='sigmoid')\n",
        "])\n",
        "\n",
        "neural_network_model.compile(optimizer='adam',loss='binary_crossentropy',metrics=['accuracy'])\n",
        "\n",
        "early_stop = EarlyStopping(monitor='val_loss', patience=5, restore_best_weights=True)\n",
        "\n",
        "history = neural_network_model.fit(x_train_processed, y_train_encoded, validation_split=0.2, epochs=100, batch_size=64,callbacks=[early_stop])"
      ]
    },
    {
      "cell_type": "markdown",
      "id": "lTC3YkCXEg7J",
      "metadata": {
        "id": "lTC3YkCXEg7J"
      },
      "source": [
        "a neural network was built consisting of four layers each with 28 neurons using the relu activation function in the first three layers and sigmoid in the final layer since it is a binary classification task l2 regularization and dropout were used to reduce overfitting\n",
        "the model was compiled using the adam optimizer to optimize the weights and binary crossentropy as the loss function with accuracy as the metric to evaluate performance during training and testing early stopping was used to stop the training once the best possible improvement was reached the model was then trained for 200 epochs with a batch size of 64 due to the large size of the data\n"
      ]
    },
    {
      "cell_type": "code",
      "execution_count": 25,
      "id": "dyXK7S6C00Ms",
      "metadata": {
        "colab": {
          "base_uri": "https://localhost:8080/"
        },
        "id": "dyXK7S6C00Ms",
        "outputId": "8f615273-ff6c-4449-9fb3-5022e963f8a9"
      },
      "outputs": [
        {
          "output_type": "stream",
          "name": "stdout",
          "text": [
            "\u001b[1m313/313\u001b[0m \u001b[32m━━━━━━━━━━━━━━━━━━━━\u001b[0m\u001b[37m\u001b[0m \u001b[1m0s\u001b[0m 1ms/step\n"
          ]
        }
      ],
      "source": [
        "y_pred_prob_ann = neural_network_model.predict(x_test_processed)\n",
        "\n",
        "y_pred_class_ann = (y_pred_prob_ann > 0.5).astype(\"int32\").flatten()\n"
      ]
    },
    {
      "cell_type": "code",
      "execution_count": 26,
      "id": "XHGbFSTFB3Ea",
      "metadata": {
        "colab": {
          "base_uri": "https://localhost:8080/",
          "height": 523
        },
        "id": "XHGbFSTFB3Ea",
        "outputId": "dffcd82c-1415-45cf-f0d6-3f5e41a419d5"
      },
      "outputs": [
        {
          "output_type": "display_data",
          "data": {
            "text/plain": [
              "<Figure size 600x500 with 1 Axes>"
            ],
            "image/png": "[encoded data removed]"
          },
          "metadata": {}
        },
        {
          "output_type": "execute_result",
          "data": {
            "text/plain": [
              "array([[3021,   28],\n",
              "       [  37, 6914]])"
            ]
          },
          "metadata": {},
          "execution_count": 26
        }
      ],
      "source": [
        "cm = confusion_matrix(y_test_encoded, y_pred_class_ann)\n",
        "\n",
        "plt.figure(figsize=(6, 5))\n",
        "sns.heatmap(cm, annot=True, fmt='d', cmap='Purples', cbar=False, linewidths=1, linecolor='black')\n",
        "plt.title(\"ann_ confusion matrix \", fontsize=14)\n",
        "plt.xlabel(\"predicted label\")\n",
        "plt.ylabel(\"true label\")\n",
        "plt.show()\n",
        "cm"
      ]
    },
    {
      "cell_type": "markdown",
      "id": "054065b3-cd0d-4629-8614-a7c16c670f2c",
      "metadata": {
        "id": "054065b3-cd0d-4629-8614-a7c16c670f2c"
      },
      "source": [
        "The confusion matrix shows that the model correctly classified 3021 true positives from class one, with only 28 false negatives from class one misclassified as class two. Additionally, 37 false positives were misclassified as class one, while 6914 true negatives from class two were correctly identified. The number of errors is very low, and the model is able to distinguish between the two classes effectively, with better performance in class two indicated by fewer errors"
      ]
    },
    {
      "cell_type": "code",
      "execution_count": 27,
      "id": "objg1erPCQHk",
      "metadata": {
        "colab": {
          "base_uri": "https://localhost:8080/",
          "height": 488
        },
        "id": "objg1erPCQHk",
        "outputId": "186ed79f-c01e-4d77-e7c7-6407312769eb"
      },
      "outputs": [
        {
          "output_type": "display_data",
          "data": {
            "text/plain": [
              "<Figure size 600x500 with 1 Axes>"
            ],
            "image/png": "[encoded data removed]"
          },
          "metadata": {}
        }
      ],
      "source": [
        "fpr, tpr, thresholds = roc_curve(y_test_encoded, y_pred_prob_ann)\n",
        "roc_auc = auc(fpr, tpr)\n",
        "\n",
        "plt.figure(figsize=(6, 5))\n",
        "plt.plot(fpr, tpr, color='darkred', lw=2, label=f'ROC curve (AUC = {roc_auc:.4f})')\n",
        "plt.plot([0, 1], [0, 1], color='gray', lw=2, linestyle='--')\n",
        "plt.xlim([0.0, 1.0])\n",
        "plt.ylim([0.0, 1.05])\n",
        "plt.xlabel('false positive evaluat')\n",
        "plt.ylabel('true positive evaluat')\n",
        "plt.title(' ann roc curve', fontsize=14)\n",
        "plt.legend(loc=\"lower right\")\n",
        "plt.grid(True)\n",
        "plt.show()"
      ]
    },
    {
      "cell_type": "markdown",
      "id": "_EuYWZ4GGofx",
      "metadata": {
        "id": "_EuYWZ4GGofx"
      },
      "source": [
        "the roc curve demonstrates the model strength by its steady upward trend without fluctuations and its clear separation from the random guess line"
      ]
    },
    {
      "cell_type": "code",
      "execution_count": 28,
      "id": "d477b7cf-2b09-420d-909a-01f35c798f45",
      "metadata": {
        "colab": {
          "base_uri": "https://localhost:8080/"
        },
        "id": "d477b7cf-2b09-420d-909a-01f35c798f45",
        "outputId": "7d52f4f8-17f1-40b9-bd6c-86afc1601267"
      },
      "outputs": [
        {
          "output_type": "stream",
          "name": "stdout",
          "text": [
            "test accuracy: 0.9957\n"
          ]
        }
      ],
      "source": [
        "pipeline_nb = Pipeline([\n",
        "    ('preprocessing', preprocessor),\n",
        "    ('model', GaussianNB())\n",
        "])\n",
        "\n",
        "pipeline_nb.fit(x_train, y_train)\n",
        "print(f\"test accuracy: {pipeline_nb.score(x_test, y_test):.4f}\")"
      ]
    },
    {
      "cell_type": "markdown",
      "id": "57dwj2W6FzFf",
      "metadata": {
        "id": "57dwj2W6FzFf"
      },
      "source": [
        "a pipeline was built to include the preprocessing steps and the model for later use"
      ]
    },
    {
      "cell_type": "code",
      "execution_count": 29,
      "id": "H8l6jnHkHED2",
      "metadata": {
        "colab": {
          "base_uri": "https://localhost:8080/"
        },
        "id": "H8l6jnHkHED2",
        "outputId": "9571ae67-9894-4352-ac46-d1a4bcff7e12"
      },
      "outputs": [
        {
          "output_type": "stream",
          "name": "stdout",
          "text": [
            "                Model  accuracy\n",
            "0                 SVM    0.9891\n",
            "1         naive bayes    0.9957\n",
            "2  Ann neural_network    0.9934\n"
          ]
        }
      ],
      "source": [
        "results = {\n",
        "    'Model': ['SVM', 'naive bayes', 'Ann neural_network'],\n",
        "    'accuracy': [0.9891, 0.9957, 0.9934]}\n",
        "df_results = pd.DataFrame(results)\n",
        "print(df_results)"
      ]
    },
    {
      "cell_type": "markdown",
      "id": "ac00c9cb-4c86-43a3-bb9e-c55026eeb742",
      "metadata": {
        "id": "ac00c9cb-4c86-43a3-bb9e-c55026eeb742"
      },
      "source": [
        "the accuracy comparison of the models on the test data shows no significant differences all models generalize wel"
      ]
    },
    {
      "cell_type": "code",
      "execution_count": 30,
      "id": "0b3b030c-493d-470d-9190-153455103c3b",
      "metadata": {
        "colab": {
          "base_uri": "https://localhost:8080/"
        },
        "id": "0b3b030c-493d-470d-9190-153455103c3b",
        "outputId": "be5c2dd5-a8e0-4fe2-b192-25c0becc0cfe"
      },
      "outputs": [
        {
          "output_type": "stream",
          "name": "stdout",
          "text": [
            "cv scores_train: [0.995125 0.994625 0.992625 0.993375 0.99575 ]\n",
            "std cv score_rain: 0.0011445523142259747\n",
            "average cv accuracy_train: 0.9943\n",
            "--------------------------------------------------\n",
            "accuracy: 0.9957\n",
            "class: Low\n",
            " precision: 0.9964\n",
            " recall   : 0.9974\n",
            " f1 Score : 0.9969\n",
            "class: High\n",
            " precision: 0.9941\n",
            " recall   : 0.9918\n",
            " f1 Score : 0.9929\n"
          ]
        }
      ],
      "source": [
        "cv= StratifiedKFold(n_splits=5,shuffle=True,random_state=42)\n",
        "scores=cross_val_score(pipeline_nb,x_train,y_train,cv=cv,scoring='accuracy')\n",
        "print('cv scores_train:',scores)\n",
        "print('std cv score_rain:',scores.std())\n",
        "print(\"average cv accuracy_train:\", scores.mean())\n",
        "print(\"-\" * 50)\n",
        "pipeline_nb.fit(x_train, y_train)\n",
        "y_pred = pipeline_nb.predict(x_test)\n",
        "metrics = {}\n",
        "for label in ['Low', 'High']:\n",
        "    precision = precision_score(y_test, y_pred, pos_label=label)\n",
        "    recall = recall_score(y_test, y_pred, pos_label=label)\n",
        "    f1 = f1_score(y_test, y_pred, pos_label=label)\n",
        "    metrics[label] = {'precision': precision,'recall': recall, 'f1 Score': f1}\n",
        "\n",
        "accuracy = accuracy_score(y_test, y_pred)\n",
        "print(f\"accuracy: {accuracy:.4f}\")\n",
        "for label, scores in metrics.items():\n",
        "    print(f\"class: {label}\")\n",
        "    print(f\" precision: {scores['precision']:.4f}\")\n",
        "    print(f\" recall   : {scores['recall']:.4f}\")\n",
        "    print(f\" f1 Score : {scores['f1 Score']:.4f}\")"
      ]
    },
    {
      "cell_type": "markdown",
      "id": "9715922c-12ce-473e-8c57-7ed39a9f98ee",
      "metadata": {
        "id": "9715922c-12ce-473e-8c57-7ed39a9f98ee"
      },
      "source": [
        "the model achieved a high test accuracy of 99.57 percent which aligns closely with the cross validation average of 99.43 percent indicating strong generalization performance\n",
        "precision recall and f1 scores for both classes low and high are all above 99 percent showing that the model is well balanced and performs consistently across both categories despite the class imbalance 70 to 30\n",
        "this suggests the model is neither overfitting nor biased towards the majority class"
      ]
    },
    {
      "cell_type": "code",
      "execution_count": 31,
      "id": "7761e206-81bb-4415-b2a1-cba0aeda21b9",
      "metadata": {
        "colab": {
          "base_uri": "https://localhost:8080/",
          "height": 1000
        },
        "id": "7761e206-81bb-4415-b2a1-cba0aeda21b9",
        "outputId": "aa7a24e6-dc6c-4bdb-d125-b4f4ae1a211d"
      },
      "outputs": [
        {
          "output_type": "execute_result",
          "data": {
            "text/plain": [
              "Sales_Volume              0.418800\n",
              "Region_Europe             0.000460\n",
              "Region_North America      0.000350\n",
              "Model_3 Series            0.000300\n",
              "Model_X1                  0.000300\n",
              "Price_USD                 0.000290\n",
              "Model_i3                  0.000280\n",
              "Model_X3                  0.000250\n",
              "Model_i8                  0.000210\n",
              "Mileage_KM                0.000200\n",
              "Model_X6                  0.000200\n",
              "Region_Middle East        0.000180\n",
              "Color_Black               0.000160\n",
              "Transmission_Manual       0.000120\n",
              "Transmission_Automatic    0.000120\n",
              "Region_South America      0.000090\n",
              "Fuel_Type_Petrol          0.000080\n",
              "Color_Red                 0.000080\n",
              "Model_X5                  0.000060\n",
              "Region_Asia               0.000010\n",
              "Fuel_Type_Electric        0.000010\n",
              "Region_Africa             0.000000\n",
              "Color_White               0.000000\n",
              "Model_5 Series           -0.000010\n",
              "Color_Blue               -0.000030\n",
              "Model_M5                 -0.000030\n",
              "Fuel_Type_Hybrid         -0.000040\n",
              "Model_M3                 -0.000050\n",
              "Model_7 Series           -0.000060\n",
              "Fuel_Type_Diesel         -0.000110\n",
              "Color_Silver             -0.000110\n",
              "Color_Grey               -0.000380\n",
              "dtype: float64"
            ],
            "text/html": [
              "<div>\n",
              "<style scoped>\n",
              "    .dataframe tbody tr th:only-of-type {\n",
              "        vertical-align: middle;\n",
              "    }\n",
              "\n",
              "    .dataframe tbody tr th {\n",
              "        vertical-align: top;\n",
              "    }\n",
              "\n",
              "    .dataframe thead th {\n",
              "        text-align: right;\n",
              "    }\n",
              "</style>\n",
              "<table border=\"1\" class=\"dataframe\">\n",
              "  <thead>\n",
              "    <tr style=\"text-align: right;\">\n",
              "      <th></th>\n",
              "      <th>0</th>\n",
              "    </tr>\n",
              "  </thead>\n",
              "  <tbody>\n",
              "    <tr>\n",
              "      <th>Sales_Volume</th>\n",
              "      <td>0.418800</td>\n",
              "    </tr>\n",
              "    <tr>\n",
              "      <th>Region_Europe</th>\n",
              "      <td>0.000460</td>\n",
              "    </tr>\n",
              "    <tr>\n",
              "      <th>Region_North America</th>\n",
              "      <td>0.000350</td>\n",
              "    </tr>\n",
              "    <tr>\n",
              "      <th>Model_3 Series</th>\n",
              "      <td>0.000300</td>\n",
              "    </tr>\n",
              "    <tr>\n",
              "      <th>Model_X1</th>\n",
              "      <td>0.000300</td>\n",
              "    </tr>\n",
              "    <tr>\n",
              "      <th>Price_USD</th>\n",
              "      <td>0.000290</td>\n",
              "    </tr>\n",
              "    <tr>\n",
              "      <th>Model_i3</th>\n",
              "      <td>0.000280</td>\n",
              "    </tr>\n",
              "    <tr>\n",
              "      <th>Model_X3</th>\n",
              "      <td>0.000250</td>\n",
              "    </tr>\n",
              "    <tr>\n",
              "      <th>Model_i8</th>\n",
              "      <td>0.000210</td>\n",
              "    </tr>\n",
              "    <tr>\n",
              "      <th>Mileage_KM</th>\n",
              "      <td>0.000200</td>\n",
              "    </tr>\n",
              "    <tr>\n",
              "      <th>Model_X6</th>\n",
              "      <td>0.000200</td>\n",
              "    </tr>\n",
              "    <tr>\n",
              "      <th>Region_Middle East</th>\n",
              "      <td>0.000180</td>\n",
              "    </tr>\n",
              "    <tr>\n",
              "      <th>Color_Black</th>\n",
              "      <td>0.000160</td>\n",
              "    </tr>\n",
              "    <tr>\n",
              "      <th>Transmission_Manual</th>\n",
              "      <td>0.000120</td>\n",
              "    </tr>\n",
              "    <tr>\n",
              "      <th>Transmission_Automatic</th>\n",
              "      <td>0.000120</td>\n",
              "    </tr>\n",
              "    <tr>\n",
              "      <th>Region_South America</th>\n",
              "      <td>0.000090</td>\n",
              "    </tr>\n",
              "    <tr>\n",
              "      <th>Fuel_Type_Petrol</th>\n",
              "      <td>0.000080</td>\n",
              "    </tr>\n",
              "    <tr>\n",
              "      <th>Color_Red</th>\n",
              "      <td>0.000080</td>\n",
              "    </tr>\n",
              "    <tr>\n",
              "      <th>Model_X5</th>\n",
              "      <td>0.000060</td>\n",
              "    </tr>\n",
              "    <tr>\n",
              "      <th>Region_Asia</th>\n",
              "      <td>0.000010</td>\n",
              "    </tr>\n",
              "    <tr>\n",
              "      <th>Fuel_Type_Electric</th>\n",
              "      <td>0.000010</td>\n",
              "    </tr>\n",
              "    <tr>\n",
              "      <th>Region_Africa</th>\n",
              "      <td>0.000000</td>\n",
              "    </tr>\n",
              "    <tr>\n",
              "      <th>Color_White</th>\n",
              "      <td>0.000000</td>\n",
              "    </tr>\n",
              "    <tr>\n",
              "      <th>Model_5 Series</th>\n",
              "      <td>-0.000010</td>\n",
              "    </tr>\n",
              "    <tr>\n",
              "      <th>Color_Blue</th>\n",
              "      <td>-0.000030</td>\n",
              "    </tr>\n",
              "    <tr>\n",
              "      <th>Model_M5</th>\n",
              "      <td>-0.000030</td>\n",
              "    </tr>\n",
              "    <tr>\n",
              "      <th>Fuel_Type_Hybrid</th>\n",
              "      <td>-0.000040</td>\n",
              "    </tr>\n",
              "    <tr>\n",
              "      <th>Model_M3</th>\n",
              "      <td>-0.000050</td>\n",
              "    </tr>\n",
              "    <tr>\n",
              "      <th>Model_7 Series</th>\n",
              "      <td>-0.000060</td>\n",
              "    </tr>\n",
              "    <tr>\n",
              "      <th>Fuel_Type_Diesel</th>\n",
              "      <td>-0.000110</td>\n",
              "    </tr>\n",
              "    <tr>\n",
              "      <th>Color_Silver</th>\n",
              "      <td>-0.000110</td>\n",
              "    </tr>\n",
              "    <tr>\n",
              "      <th>Color_Grey</th>\n",
              "      <td>-0.000380</td>\n",
              "    </tr>\n",
              "  </tbody>\n",
              "</table>\n",
              "</div><br><label><b>dtype:</b> float64</label>"
            ]
          },
          "metadata": {},
          "execution_count": 31
        }
      ],
      "source": [
        "feature_names = preprocessor.get_feature_names_out()\n",
        "clean_feature_names = [name.replace('minmax__', '').replace('onehot__', '') for name in feature_names]\n",
        "perm_importance = permutation_importance( model_2,x_test_processed,y_test_encoded,n_repeats=10,random_state=42)\n",
        "feature_importance = pd.Series(perm_importance.importances_mean, index=clean_feature_names)\n",
        "feature_importance = feature_importance.sort_values(ascending=False)\n",
        "pd.set_option('display.float_format', lambda x: '%.6f' % x)\n",
        "feature_importance"
      ]
    },
    {
      "cell_type": "code",
      "execution_count": 32,
      "id": "0115efad-1308-44b2-9cf4-055d9ab1b939",
      "metadata": {
        "colab": {
          "base_uri": "https://localhost:8080/",
          "height": 607
        },
        "id": "0115efad-1308-44b2-9cf4-055d9ab1b939",
        "outputId": "30ddc3e7-3056-4a1c-c97a-2014a9617fd3"
      },
      "outputs": [
        {
          "output_type": "display_data",
          "data": {
            "text/plain": [
              "<Figure size 1000x600 with 1 Axes>"
            ],
            "image/png": "[encoded data removed]"
          },
          "metadata": {}
        }
      ],
      "source": [
        "plt.figure(figsize=(10, 6))\n",
        "feature_importance.plot(kind='bar')\n",
        "plt.title('perm feature importance')\n",
        "plt.xlabel('features')\n",
        "plt.ylabel('importance')\n",
        "plt.xticks(rotation=45, ha='right')\n",
        "plt.tight_layout()\n",
        "plt.show()"
      ]
    },
    {
      "cell_type": "code",
      "execution_count": null,
      "id": "lRr7eV97NXb-",
      "metadata": {
        "colab": {
          "base_uri": "https://localhost:8080/"
        },
        "id": "lRr7eV97NXb-",
        "outputId": "4f661af5-770d-42ee-c9f1-2e0f81763697"
      },
      "outputs": [
        {
          "data": {
            "text/plain": [
              "['nb_pipeline.pkl']"
            ]
          },
          "execution_count": 85,
          "metadata": {},
          "output_type": "execute_result"
        }
      ],
      "source": [
        "import joblib\n",
        "joblib.dump(pipeline_nb, \"nb_pipeline.pkl\")"
      ]
    },
    {
      "cell_type": "markdown",
      "id": "z7nUzz-8NzEK",
      "metadata": {
        "id": "z7nUzz-8NzEK"
      },
      "source": [
        "the final result shows that the models performed strongly with close and consistent results and no signs of overfitting the sales volume column had the most significant influence on the decision"
      ]
    },
    {
      "cell_type": "markdown",
      "id": "d390c71a-f190-44de-b742-f41b65c6dae3",
      "metadata": {
        "id": "d390c71a-f190-44de-b742-f41b65c6dae3"
      },
      "source": [
        "currently based on the available data the naive bayes model provides good performance in terms of accuracy and training speed it also handles the data size reasonably well which is not considered very small the performance difference compared to other models is negligible however in the future with the potential increase in the number of features a neural network model is expected to perform better**\n"
      ]
    }
  ],
  "metadata": {
    "colab": {
      "provenance": []
    },
    "kernelspec": {
      "display_name": "Python [conda env:base] *",
      "language": "python",
      "name": "conda-base-py"
    },
    "language_info": {
      "codemirror_mode": {
        "name": "ipython",
        "version": 3
      },
      "file_extension": ".py",
      "mimetype": "text/x-python",
      "name": "python",
      "nbconvert_exporter": "python",
      "pygments_lexer": "ipython3",
      "version": "3.12.7"
    }
  },
  "nbformat": 4,
  "nbformat_minor": 5
}